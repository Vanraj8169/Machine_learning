{
 "cells": [
  {
   "cell_type": "code",
   "execution_count": 4,
   "metadata": {},
   "outputs": [
    {
     "name": "stdout",
     "output_type": "stream",
     "text": [
      "mercedes\n",
      "s1\n",
      "2024\n",
      "Engine Starts\n"
     ]
    }
   ],
   "source": [
    "# Assignment 1: Basic Class and Object Creation\n",
    "# Assignment 2: Methods in Class\n",
    "class Car:\n",
    "    def __init__(self,make,model,year):\n",
    "        self.make = make\n",
    "        self.model = model\n",
    "        self.year = year\n",
    "    def start_engine(self):\n",
    "        print(\"Engine Starts\")\n",
    "    \n",
    "mercedes = Car(\"mercedes\",\"s1\",\"2024\")\n",
    "print(mercedes.make)\n",
    "print(mercedes.model)\n",
    "print(mercedes.year)\n",
    "mercedes.start_engine()"
   ]
  },
  {
   "cell_type": "code",
   "execution_count": 5,
   "metadata": {},
   "outputs": [
    {
     "name": "stdout",
     "output_type": "stream",
     "text": [
      "Vanraj\n",
      "21\n"
     ]
    }
   ],
   "source": [
    "# Assignment 3: Class with constructor\n",
    "class Student:\n",
    "    def __init__(self,name,age):\n",
    "        self.name = name\n",
    "        self.age = age\n",
    "\n",
    "student_obj = Student('Vanraj',21)\n",
    "print(student_obj.name)\n",
    "print(student_obj.age)"
   ]
  },
  {
   "cell_type": "code",
   "execution_count": 7,
   "metadata": {},
   "outputs": [
    {
     "name": "stdout",
     "output_type": "stream",
     "text": [
      "5000 deposited. Your Acc balance is 10000\n",
      "Insufficent Balance\n",
      "2000 withdraw. Your Acc Balance is 8000\n"
     ]
    },
    {
     "data": {
      "text/plain": [
       "8000"
      ]
     },
     "execution_count": 7,
     "metadata": {},
     "output_type": "execute_result"
    }
   ],
   "source": [
    "# Assignment 4: Class with Private Attributes\n",
    "class BankAccount:\n",
    "    def __init__(self,account_number,balance=0):\n",
    "        self._account_number = account_number\n",
    "        self._balance = balance\n",
    "    def deposit(self,amount):\n",
    "        self._balance += amount\n",
    "        print(f\"{amount} deposited. Your Acc balance is {self._balance}\")\n",
    "    \n",
    "    def withdraw(self,amount):\n",
    "        if amount > self._balance:\n",
    "            print(\"Insufficent Balance\")\n",
    "        else:\n",
    "            self._balance -= amount\n",
    "            print(f\"{amount} withdraw. Your Acc Balance is {self._balance}\")\n",
    "    \n",
    "    def get_balance(self):\n",
    "        return self._balance\n",
    "    \n",
    "account = BankAccount(123425,5000)\n",
    "account.deposit(5000)\n",
    "account.withdraw(12000)\n",
    "account.withdraw(2000)\n",
    "account.get_balance()"
   ]
  },
  {
   "cell_type": "code",
   "execution_count": 13,
   "metadata": {},
   "outputs": [
    {
     "name": "stdout",
     "output_type": "stream",
     "text": [
      "Employee(Name: Vanraj, Age: 21, Employee ID: 12344)\n"
     ]
    }
   ],
   "source": [
    "# Assignment 5: Class Inheritance\n",
    "# Assignment 6: Method Overriding\n",
    "\n",
    "class Person:\n",
    "    def __init__(self,name,age):\n",
    "        self.name = name\n",
    "        self.age = age\n",
    "class Employee(Person):\n",
    "        def __init__(self,name,age,employee_id):\n",
    "            super().__init__(name,age)\n",
    "            self.employee_id = employee_id\n",
    "        \n",
    "        def __str__(self):\n",
    "            return f\"Employee(Name: {self.name}, Age: {self.age}, Employee ID: {self.employee_id})\"\n",
    "\n",
    "vanraj = Employee('Vanraj',21,12344)\n",
    "print(vanraj)"
   ]
  },
  {
   "cell_type": "code",
   "execution_count": 14,
   "metadata": {},
   "outputs": [
    {
     "name": "stdout",
     "output_type": "stream",
     "text": [
      "Malabar Hill Mumbai 400006\n"
     ]
    }
   ],
   "source": [
    "# Assignment 7: Class Composition\n",
    "class Address:\n",
    "    def __init__(self,street,city,zipcode):\n",
    "        self.street = street\n",
    "        self.city = city\n",
    "        self.zipcode = zipcode\n",
    "\n",
    "class Person:\n",
    "    def __init__(self,address):\n",
    "        self.address = address\n",
    "        \n",
    "address = Address('Malabar Hill','Mumbai',400006)\n",
    "person = Person(address)\n",
    "print(person.address.street,person.address.city,person.address.zipcode)\n",
    "    "
   ]
  },
  {
   "cell_type": "code",
   "execution_count": 16,
   "metadata": {},
   "outputs": [
    {
     "data": {
      "text/plain": [
       "3"
      ]
     },
     "execution_count": 16,
     "metadata": {},
     "output_type": "execute_result"
    }
   ],
   "source": [
    "# Assignment 8: Class with class variable\n",
    "class Counter:\n",
    "    count = 0\n",
    "    def __init__(self):\n",
    "        Counter.count += 1\n",
    "    \n",
    "    @classmethod\n",
    "    def get_curr_count(cls):\n",
    "        return cls.count\n",
    "    \n",
    "c1 = Counter()\n",
    "c2 = Counter()\n",
    "c3 = Counter()\n",
    "Counter.get_curr_count()"
   ]
  },
  {
   "cell_type": "code",
   "execution_count": 19,
   "metadata": {},
   "outputs": [
    {
     "name": "stdout",
     "output_type": "stream",
     "text": [
      "4.0\n"
     ]
    }
   ],
   "source": [
    "# Assignment 9: Static Methods\n",
    "import math\n",
    "class MethodOperations:\n",
    "    @staticmethod\n",
    "    def sqrt(x):\n",
    "        return math.sqrt(x)\n",
    "    \n",
    "print(MethodOperations.sqrt(16))"
   ]
  },
  {
   "cell_type": "code",
   "execution_count": 25,
   "metadata": {},
   "outputs": [
    {
     "name": "stdout",
     "output_type": "stream",
     "text": [
      "15 2\n"
     ]
    }
   ],
   "source": [
    "# Assignment 10: Class with Properties\n",
    "class Rectangle:\n",
    "    def __init__(self, length, width):\n",
    "        self._length = length\n",
    "        self._width = width\n",
    "    \n",
    "    @property\n",
    "    def length(self):\n",
    "        return self._length\n",
    "   \n",
    "    @length.setter\n",
    "    def length(self, length):\n",
    "        self._length = length\n",
    "    \n",
    "    @property\n",
    "    def width(self):\n",
    "        return self._width\n",
    "    \n",
    "    @width.setter\n",
    "    def width(self, width):\n",
    "        self._width = width\n",
    "\n",
    "rect = Rectangle(10, 20)\n",
    "rect.length = 15\n",
    "rect.width = 2\n",
    "print(rect.length, rect.width)\n"
   ]
  },
  {
   "cell_type": "code",
   "execution_count": 28,
   "metadata": {},
   "outputs": [
    {
     "name": "stdout",
     "output_type": "stream",
     "text": [
      "50.26548245743669\n",
      "16\n"
     ]
    }
   ],
   "source": [
    "# Assignment 11: Abstract Base Class\n",
    "import math\n",
    "from abc import ABC,abstractmethod\n",
    "class Shape(ABC):\n",
    "    @abstractmethod\n",
    "    def area(self):\n",
    "        pass \n",
    "\n",
    "class Circle(Shape):\n",
    "    def __init__(self,radius):\n",
    "        self.radius = radius\n",
    "    \n",
    "    def area(self):\n",
    "        return math.pi * self.radius ** 2\n",
    "\n",
    "class Square(Shape):\n",
    "    def __init__(self,side):\n",
    "        self.side = side\n",
    "    \n",
    "    def area(self):\n",
    "        return 4 * self.side\n",
    "\n",
    "circle = Circle(4)\n",
    "square = Square(4)\n",
    "print(circle.area())\n",
    "print(square.area())\n",
    "    "
   ]
  },
  {
   "cell_type": "code",
   "execution_count": 31,
   "metadata": {},
   "outputs": [],
   "source": [
    "# Assignment 12: Operator Overloading\n",
    "class Vector:\n",
    "    def __init__(self,x,y):\n",
    "        self.x = x\n",
    "        self.y = y \n",
    "    \n",
    "    def __add__(self,other):\n",
    "        return Vector(self.x + other.x, self.y + other.y)\n",
    "    def __str__(self):\n",
    "        return f\"Vector({self.x},{self.y})\"\n",
    "    \n",
    "v1 = Vector(3,2)\n",
    "v2 = Vector(5,2)\n",
    "v3 = v1 + v2\n"
   ]
  },
  {
   "cell_type": "code",
   "execution_count": 32,
   "metadata": {},
   "outputs": [
    {
     "name": "stdout",
     "output_type": "stream",
     "text": [
      "5000 deposited. Your Acc balance is 6000\n",
      "Insufficent Balance\n"
     ]
    }
   ],
   "source": [
    "# Assignment 13: Class with Custom Exception\n",
    "class InsufficientBalanceError(Exception):\n",
    "    pass\n",
    "\n",
    "class BankAccount:\n",
    "    def __init__(self,account_number,balance=0):\n",
    "        self._account_number = account_number\n",
    "        self._balance = balance\n",
    "    def deposit(self,amount):\n",
    "        self._balance += amount\n",
    "        print(f\"{amount} deposited. Your Acc balance is {self._balance}\")\n",
    "    \n",
    "    def withdraw(self,amount):\n",
    "        if amount > self._balance:\n",
    "            raise InsufficientBalanceError(\"Insufficent Balance\")\n",
    "        else:\n",
    "            self._balance -= amount\n",
    "            print(f\"{amount} withdraw. Your Acc Balance is {self._balance}\")\n",
    "    \n",
    "    def get_balance(self):\n",
    "        return self._balance\n",
    "       \n",
    "account = BankAccount('1234345',1000)\n",
    "account.deposit(5000)\n",
    "try:\n",
    "    account.withdraw(20009090)\n",
    "except InsufficientBalanceError as err:\n",
    "    print(err) "
   ]
  },
  {
   "cell_type": "code",
   "execution_count": 35,
   "metadata": {},
   "outputs": [
    {
     "name": "stdout",
     "output_type": "stream",
     "text": [
      "Hello How are you ?\n"
     ]
    }
   ],
   "source": [
    "# Assignment 14: Class with Context Manager\n",
    "class FileManager:\n",
    "    def __init__(self,filename,mode):\n",
    "        self.filename = filename\n",
    "        self.mode = mode\n",
    "    \n",
    "    def __enter__(self):\n",
    "        self.file = open(self.filename,self.mode)\n",
    "        return self.file\n",
    "    \n",
    "    def __exit__(self, exc_type, exc_value, traceback):\n",
    "        self.file.close()\n",
    "        \n",
    "with FileManager('sample.txt','r') as file:\n",
    "    content = file.read()\n",
    "    print(content)\n",
    "            "
   ]
  },
  {
   "cell_type": "code",
   "execution_count": 36,
   "metadata": {},
   "outputs": [
    {
     "name": "stdout",
     "output_type": "stream",
     "text": [
      "7.0\n"
     ]
    }
   ],
   "source": [
    "# Assignment 15: Chaining Methods\n",
    "class Calculator:\n",
    "    def __init__(self,value=0):\n",
    "        self.value = value\n",
    "        \n",
    "    def add(self,amount):\n",
    "        self.value += amount\n",
    "        return self\n",
    "    \n",
    "    def subtract(self,amount):\n",
    "        self.value -= amount\n",
    "        return self\n",
    "    \n",
    "    def multiply(self,amount):\n",
    "        self.value *= amount\n",
    "        return self\n",
    "    \n",
    "    def divide(self,amount):\n",
    "        if amount != 0:\n",
    "            self.value /= amount\n",
    "        else:\n",
    "            print('Cannot divide by zero')\n",
    "        return self\n",
    "    \n",
    "calc = Calculator()\n",
    "calc.add(10).subtract(3).multiply(2).divide(2)\n",
    "print(calc.value)"
   ]
  },
  {
   "cell_type": "code",
   "execution_count": null,
   "metadata": {},
   "outputs": [],
   "source": []
  }
 ],
 "metadata": {
  "kernelspec": {
   "display_name": "Python 3",
   "language": "python",
   "name": "python3"
  },
  "language_info": {
   "codemirror_mode": {
    "name": "ipython",
    "version": 3
   },
   "file_extension": ".py",
   "mimetype": "text/x-python",
   "name": "python",
   "nbconvert_exporter": "python",
   "pygments_lexer": "ipython3",
   "version": "3.11.2"
  }
 },
 "nbformat": 4,
 "nbformat_minor": 2
}
