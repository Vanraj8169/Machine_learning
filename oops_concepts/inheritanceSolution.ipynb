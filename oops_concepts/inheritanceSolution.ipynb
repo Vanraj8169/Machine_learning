{
 "cells": [
  {
   "cell_type": "code",
   "execution_count": 4,
   "metadata": {},
   "outputs": [
    {
     "name": "stdout",
     "output_type": "stream",
     "text": [
      "Lappy\n",
      "Dog(Lappy,Labrador,Dog)\n",
      "Boo Boo\n"
     ]
    }
   ],
   "source": [
    "# Assignment 1: Single Inheritance Basic\n",
    "# Assignment 2: Method Overriding in Single Inheritance\n",
    "# Assignment 3: Single Inheritance with Additional Methods\n",
    "class Animal:\n",
    "    def __init__(self,name,species):\n",
    "        self.name = name\n",
    "        self.species = species\n",
    "    \n",
    "class Dog(Animal):\n",
    "    def __init__(self,name,species,breed):\n",
    "        super().__init__(name,species)\n",
    "        self.breed = breed\n",
    "    \n",
    "    def __str__(self):\n",
    "        return f\"Dog({self.name},{self.species},{self.breed})\"\n",
    "    \n",
    "    def bark(self):\n",
    "        return \"Boo Boo\"\n",
    "\n",
    "    \n",
    "    \n",
    "dog = Dog(\"Lappy\",\"Labrador\",'Dog')\n",
    "print(dog.name)\n",
    "print(dog)\n",
    "print(dog.bark())"
   ]
  },
  {
   "cell_type": "code",
   "execution_count": 9,
   "metadata": {},
   "outputs": [
    {
     "name": "stdout",
     "output_type": "stream",
     "text": [
      "Athletics Run\n",
      "Running\n",
      "Athletics Run\n",
      "27\n"
     ]
    }
   ],
   "source": [
    "# Assignment 4: Multiple Inheritance Basic\n",
    "# Assignment 5: Method Resolution Order (MRO) in Multiple Inheritance\n",
    "# Assignment 6: Multiple Inheritance with Additional Attributes\n",
    "class Walker:\n",
    "    def walk(self):\n",
    "        return \"Walking\"\n",
    "    \n",
    "class Runner:\n",
    "    def run(self):\n",
    "        return \"Running\"\n",
    "\n",
    "class Athlete(Walker,Runner):\n",
    "    def __init__(self,training_hours):\n",
    "        self.training_hours = training_hours\n",
    "        \n",
    "    def train(self):\n",
    "        return self.training_hours\n",
    "    \n",
    "    def walk(self):\n",
    "        super().walk()\n",
    "        return \"Athletics Run\"\n",
    "\n",
    "    \n",
    "\n",
    "athlete = Athlete(27)\n",
    "print(athlete.walk())\n",
    "print(athlete.run())\n",
    "print(athlete.walk())\n",
    "print(athlete.train())\n"
   ]
  },
  {
   "cell_type": "code",
   "execution_count": 13,
   "metadata": {},
   "outputs": [
    {
     "name": "stdout",
     "output_type": "stream",
     "text": [
      "C is showing\n",
      "C is showing\n"
     ]
    }
   ],
   "source": [
    "# Assignment 7: Diamond Problem in Multiple Inheritance\n",
    "class A:\n",
    "    def show(self):\n",
    "        print(\"A is Showing\")\n",
    "\n",
    "class B(A):\n",
    "    def show(self):\n",
    "        print(\"B is showing\")\n",
    "\n",
    "class C(A):\n",
    "    def show(self):\n",
    "        print(\"C is showing\")\n",
    "        \n",
    "class D(C,B):\n",
    "    pass\n",
    "\n",
    "d = D()\n",
    "d.show()\n",
    "d.show()"
   ]
  },
  {
   "cell_type": "code",
   "execution_count": 14,
   "metadata": {},
   "outputs": [
    {
     "name": "stdout",
     "output_type": "stream",
     "text": [
      "Green\n",
      "5\n"
     ]
    }
   ],
   "source": [
    " # Assignment 8: Using super() in Single Inheritance\n",
    " class Shape:\n",
    "     def __init__(self,color):\n",
    "         self.color = color\n",
    "\n",
    "class Circle(Shape):\n",
    "    def __init__(self,radius,color):\n",
    "        super().__init__(color)\n",
    "        self.radius = radius\n",
    "        \n",
    "circle = Circle(5,'Green')\n",
    "print(circle.color)\n",
    "print(circle.radius)"
   ]
  },
  {
   "cell_type": "code",
   "execution_count": 18,
   "metadata": {},
   "outputs": [
    {
     "name": "stdout",
     "output_type": "stream",
     "text": [
      "Vanraj\n",
      "1234\n"
     ]
    }
   ],
   "source": [
    "# Assignment 9: Using super() in Multiple Inheritance\n",
    "class Person:\n",
    "    def __init__(self,name):\n",
    "        self.name = name\n",
    "        \n",
    "class Employee:\n",
    "    def __init__(self,employee_id):\n",
    "        self.employee_id = employee_id\n",
    "        \n",
    "class Manager(Person,Employee):\n",
    "    def __init__(self,name,employee_id):\n",
    "        super().__init__(name)\n",
    "        Employee.__init__(self,employee_id)\n",
    "\n",
    "manager = Manager(\"Vanraj\",1234)\n",
    "print(manager.name)\n",
    "print(manager.employee_id)"
   ]
  },
  {
   "cell_type": "code",
   "execution_count": 19,
   "metadata": {},
   "outputs": [
    {
     "name": "stdout",
     "output_type": "stream",
     "text": [
      "Car is starting\n",
      "Starting a vehicle\n"
     ]
    }
   ],
   "source": [
    "# Assignment 10: Method Overriding and super()\n",
    "class Vehicle:\n",
    "    def start(self):\n",
    "        print(\"Starting a vehicle\")\n",
    "class Car(Vehicle):\n",
    "    def start(self):\n",
    "        print(\"Car is starting\")\n",
    "        super().start()\n",
    "\n",
    "car = Car()\n",
    "car.start()"
   ]
  },
  {
   "cell_type": "code",
   "execution_count": 20,
   "metadata": {},
   "outputs": [
    {
     "name": "stdout",
     "output_type": "stream",
     "text": [
      "Flying...\n",
      "Swimming...\n"
     ]
    }
   ],
   "source": [
    "# Assignment 11: Multiple Inheritance with Different Methods\n",
    "class Flyer:\n",
    "    def fly(self):\n",
    "        print(\"Flying...\")\n",
    "\n",
    "class Swimmer:\n",
    "    def swim(self):\n",
    "        print(\"Swimming...\")\n",
    "\n",
    "class Superhero(Flyer,Swimmer):\n",
    "    pass\n",
    "\n",
    "superhero = Superhero()\n",
    "superhero.fly()\n",
    "superhero.swim()"
   ]
  },
  {
   "cell_type": "code",
   "execution_count": 21,
   "metadata": {},
   "outputs": [
    {
     "name": "stdout",
     "output_type": "stream",
     "text": [
      "1\n",
      "2\n",
      "3\n"
     ]
    }
   ],
   "source": [
    "# Assignment 12: Complex Multiple Inheritance\n",
    "class Base1:\n",
    "    def __init__(self,a):\n",
    "        self.a = a\n",
    "        \n",
    "class Base2:\n",
    "    def __init__(self,b):\n",
    "        self.b = b\n",
    "\n",
    "class Derived(Base1,Base2):\n",
    "    def __init__(self,a,b,c):\n",
    "        super().__init__(a)\n",
    "        Base2.__init__(self,b)\n",
    "        self.c = c \n",
    "\n",
    "derived = Derived(1,2,3)\n",
    "print(derived.a)\n",
    "print(derived.b)\n",
    "print(derived.c)"
   ]
  },
  {
   "cell_type": "code",
   "execution_count": 24,
   "metadata": {},
   "outputs": [
    {
     "name": "stdout",
     "output_type": "stream",
     "text": [
      "True\n",
      "True\n",
      "True\n",
      "False\n"
     ]
    }
   ],
   "source": [
    "# Assignment 13: Checking Instance Types with Inheritance\n",
    "class Animal:\n",
    "    pass\n",
    "\n",
    "class Cat(Animal):\n",
    "    pass\n",
    "\n",
    "animal = Animal()\n",
    "cat = Cat()\n",
    "print(isinstance(animal, Animal))  \n",
    "print(isinstance(cat, Animal))  \n",
    "print(isinstance(cat, Cat))\n",
    "print(isinstance(animal, Cat)) "
   ]
  },
  {
   "cell_type": "code",
   "execution_count": 25,
   "metadata": {},
   "outputs": [
    {
     "name": "stdout",
     "output_type": "stream",
     "text": [
      "Poo Poo\n",
      "Shoo Shoo\n",
      "Chirping...\n"
     ]
    }
   ],
   "source": [
    "# Assignment 14: Polymorphism with Inheritance\n",
    "class Bird:\n",
    "    def speak(self):\n",
    "        print(\"Chirping...\")\n",
    "class Parrot(Bird):\n",
    "    def speak(self):\n",
    "        print(\"Poo Poo\")\n",
    "\n",
    "class Penguin(Bird):\n",
    "    def speak(self):\n",
    "        print(\"Shoo Shoo\")\n",
    "        \n",
    "parrot = Parrot()\n",
    "parrot.speak()\n",
    "penguin = Penguin()\n",
    "penguin.speak()\n",
    "bird = Bird()\n",
    "bird.speak()"
   ]
  },
  {
   "cell_type": "code",
   "execution_count": 28,
   "metadata": {},
   "outputs": [
    {
     "name": "stdout",
     "output_type": "stream",
     "text": [
      "Oneplus Nord 2T\n",
      "4K UHD\n",
      "One Plus\n"
     ]
    }
   ],
   "source": [
    "# Assignment 15: Combining Single and Multiple Inheritance\n",
    "class Device:\n",
    "    def __init__(self,brand):\n",
    "        self.brand = brand\n",
    "    \n",
    "class Phone(Device):\n",
    "    def __init__(self,brand,model):\n",
    "        self.model = model\n",
    "        super().__init__(brand)\n",
    "\n",
    "class Camera:\n",
    "    def __init__(self,resolution):\n",
    "        self.resolution = resolution\n",
    "        \n",
    "class Smartphone(Phone,Camera):\n",
    "    def __init__(self,brand,model,resolution):\n",
    "        Phone.__init__(self,brand,model)\n",
    "        Camera.__init__(self,resolution)\n",
    "\n",
    "sm = Smartphone(\"One Plus\",\"Oneplus Nord 2T\",\"4K UHD\")\n",
    "print(sm.model)\n",
    "print(sm.resolution)\n",
    "print(sm.brand)"
   ]
  },
  {
   "cell_type": "code",
   "execution_count": null,
   "metadata": {},
   "outputs": [],
   "source": []
  }
 ],
 "metadata": {
  "kernelspec": {
   "display_name": "Python 3",
   "language": "python",
   "name": "python3"
  },
  "language_info": {
   "codemirror_mode": {
    "name": "ipython",
    "version": 3
   },
   "file_extension": ".py",
   "mimetype": "text/x-python",
   "name": "python",
   "nbconvert_exporter": "python",
   "pygments_lexer": "ipython3",
   "version": "3.11.2"
  }
 },
 "nbformat": 4,
 "nbformat_minor": 2
}
