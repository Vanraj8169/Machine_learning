{
 "cells": [
  {
   "cell_type": "code",
   "execution_count": 5,
   "metadata": {},
   "outputs": [
    {
     "name": "stdout",
     "output_type": "stream",
     "text": [
      "4\n",
      "3\n",
      "2\n",
      "1\n",
      "0\n"
     ]
    }
   ],
   "source": [
    "# Assignment 1: Custom Iterator\n",
    "class Countdown:\n",
    "    def __init__(self,start):\n",
    "        self.current = start\n",
    "        \n",
    "    def __iter__(self):\n",
    "        return self\n",
    "    \n",
    "    def __next__(self):\n",
    "        if self.current <= 0:\n",
    "            raise StopIteration\n",
    "        else:\n",
    "            self.current -= 1\n",
    "        return self.current\n",
    "        \n",
    "for number in Countdown(5):\n",
    "    print(number)"
   ]
  },
  {
   "cell_type": "code",
   "execution_count": 7,
   "metadata": {},
   "outputs": [
    {
     "name": "stdout",
     "output_type": "stream",
     "text": [
      "1\n",
      "2\n",
      "3\n",
      "4\n",
      "5\n",
      "6\n"
     ]
    }
   ],
   "source": [
    "# Assignment 2: Custom Iterable Class\n",
    "class MyRange:\n",
    "    def __init__(self,end):\n",
    "        self.start = 0\n",
    "        self.end = end\n",
    "        \n",
    "    def __iter__(self):\n",
    "        return self\n",
    "    \n",
    "    def __next__(self):\n",
    "        if self.start < self.end:\n",
    "            self.start += 1\n",
    "        else:\n",
    "            raise StopIteration\n",
    "        return self.start\n",
    "    \n",
    "for num in MyRange(6):\n",
    "    print(num)\n",
    "        \n",
    "        "
   ]
  },
  {
   "cell_type": "code",
   "execution_count": 10,
   "metadata": {},
   "outputs": [
    {
     "name": "stdout",
     "output_type": "stream",
     "text": [
      "0\n",
      "1\n",
      "1\n",
      "2\n",
      "3\n",
      "5\n"
     ]
    }
   ],
   "source": [
    "# Assignment 3: Generator Function\n",
    "# 0 1 1 2 3 5 8 13 \n",
    "def fibonacci(n):\n",
    "    a = 0\n",
    "    b = 1\n",
    "    for i in range(n+1):\n",
    "        if i <= 1:\n",
    "            yield i \n",
    "        else:\n",
    "            a,b = b, a+b  \n",
    "            yield b \n",
    "for i in fibonacci(5):\n",
    "    print(i)\n",
    "            \n",
    "            \n",
    "    "
   ]
  },
  {
   "cell_type": "code",
   "execution_count": 11,
   "metadata": {},
   "outputs": [
    {
     "name": "stdout",
     "output_type": "stream",
     "text": [
      "1\n",
      "4\n",
      "9\n",
      "16\n",
      "25\n",
      "36\n",
      "49\n",
      "64\n",
      "81\n",
      "100\n"
     ]
    }
   ],
   "source": [
    "# Assignment 4: Generator Expression\n",
    "def gen_exp():\n",
    "    for i in range(11):\n",
    "        if i > 0:\n",
    "            yield i ** 2\n",
    "\n",
    "for i in gen_exp():\n",
    "    print(i)"
   ]
  },
  {
   "cell_type": "code",
   "execution_count": 17,
   "metadata": {},
   "outputs": [
    {
     "name": "stdout",
     "output_type": "stream",
     "text": [
      "0\n",
      "4\n",
      "16\n",
      "36\n",
      "64\n"
     ]
    }
   ],
   "source": [
    "# Assignment 5: Chaining Generators\n",
    "def even_numbers(n):\n",
    "    for i in range(n):\n",
    "        if (i%2 == 0): \n",
    "            yield i \n",
    "def squares(numbers):\n",
    "    for i in numbers:\n",
    "        yield i**2\n",
    "\n",
    "even_gen = even_numbers(10)\n",
    "sqr = squares(even_gen)\n",
    "for i in sqr:\n",
    "    print(i)\n"
   ]
  },
  {
   "cell_type": "code",
   "execution_count": 26,
   "metadata": {},
   "outputs": [
    {
     "name": "stdout",
     "output_type": "stream",
     "text": [
      "Total time taken: 0.0\n",
      "Total time taken: 0.0\n",
      "Total time taken: 0.0\n",
      "Total time taken: 0.0\n",
      "Total time taken: 0.0\n",
      "Total time taken: 0.0\n",
      "Total time taken: 0.0\n",
      "Total time taken: 0.0\n",
      "Total time taken: 0.0\n",
      "Total time taken: 0.0\n",
      "Total time taken: 0.0\n",
      "3628800\n"
     ]
    }
   ],
   "source": [
    "# Assignment 6: Simple Decorator\n",
    "import time\n",
    "def time_it(func):\n",
    "    def wrapper(*args,**kwargs):\n",
    "        start_time = time.time()\n",
    "        result = func(*args,**kwargs)\n",
    "        end_time = time.time()\n",
    "        print(f\"Total time taken: {end_time - start_time}\")\n",
    "        return result\n",
    "    return wrapper\n",
    "\n",
    "@time_it\n",
    "def factorial(n):\n",
    "    if n ==0 :\n",
    "        return 1\n",
    "    else:\n",
    "        return n * factorial(n-1)\n",
    "\n",
    "print(factorial(10))\n",
    "    "
   ]
  },
  {
   "cell_type": "code",
   "execution_count": 28,
   "metadata": {},
   "outputs": [
    {
     "name": "stdout",
     "output_type": "stream",
     "text": [
      "GOOD MORNING, VANRAJ !\n"
     ]
    }
   ],
   "source": [
    "# Assignment 8: Nested Decorator\n",
    "def uppercase(func):\n",
    "    def wrapper(*args,**kwargs):\n",
    "        result = func(*args,**kwargs)\n",
    "        return result.upper()\n",
    "    return wrapper\n",
    "\n",
    "def exclaim(func):\n",
    "    def wrapper(*args,**kwargs):\n",
    "        result = func(*args,**kwargs)\n",
    "        return f\"{result} !\"\n",
    "    return wrapper\n",
    "\n",
    "@uppercase\n",
    "@exclaim\n",
    "def greet(name):\n",
    "    return f\"Good Morning, {name}\"\n",
    "\n",
    "print(greet(\"Vanraj\"))"
   ]
  },
  {
   "cell_type": "code",
   "execution_count": 31,
   "metadata": {},
   "outputs": [
    {
     "name": "stdout",
     "output_type": "stream",
     "text": [
      "Database connection created\n",
      "True\n"
     ]
    }
   ],
   "source": [
    "# Assignment 9: Class Decorator\n",
    "def singleton(cls):\n",
    "    instances = {}\n",
    "    def get_instance(*args,**kwargs):\n",
    "        if cls not in instances:\n",
    "            instances[cls] = cls(*args,**kwargs)\n",
    "        return instances[cls]\n",
    "    return get_instance\n",
    "\n",
    "@singleton\n",
    "class DatabaseConnection:\n",
    "    def __init__(self):\n",
    "        print('Database connection created')\n",
    "        \n",
    "db1 = DatabaseConnection()\n",
    "db2 = DatabaseConnection()\n",
    "print(db1 is db2)\n",
    "    "
   ]
  },
  {
   "cell_type": "code",
   "execution_count": 37,
   "metadata": {},
   "outputs": [
    {
     "name": "stdout",
     "output_type": "stream",
     "text": [
      "O\n",
      "L\n",
      "L\n",
      "E\n",
      "H\n"
     ]
    }
   ],
   "source": [
    "# Assignment 10: Iterator Protocol with Decorators\n",
    "def uppercase(cls):\n",
    "    class Wrapper(cls):\n",
    "        def __init__(self,*args,**kwargs):\n",
    "            super().__init__(*args,**kwargs)\n",
    "            self.data = self.data.upper()\n",
    "    return Wrapper\n",
    "    \n",
    "    \n",
    "@uppercase\n",
    "class ReverseString:\n",
    "    def __init__(self,data):\n",
    "        self.data = data \n",
    "        self.index = len(data)\n",
    "        \n",
    "    def __iter__(self):\n",
    "        return self\n",
    "    \n",
    "    def __next__(self):\n",
    "        if self.index == 0:\n",
    "            raise StopIteration\n",
    "        self.index  -= 1\n",
    "        return self.data[self.index]\n",
    "\n",
    "\n",
    "for char in ReverseString('Hello'):\n",
    "    print(char)"
   ]
  },
  {
   "cell_type": "code",
   "execution_count": 38,
   "metadata": {},
   "outputs": [
    {
     "name": "stdout",
     "output_type": "stream",
     "text": [
      "0\n",
      "1\n",
      "2\n",
      "3\n",
      "4\n",
      "5\n",
      "6\n",
      "7\n",
      "8\n",
      "9\n"
     ]
    }
   ],
   "source": [
    "# Assignment 11: Stateful Generators\n",
    "def counter(start):\n",
    "    current = start \n",
    "    while True:\n",
    "        yield current\n",
    "        current += 1\n",
    "        \n",
    "count = counter(0)\n",
    "for _ in range(10):\n",
    "    print(next(count))"
   ]
  },
  {
   "cell_type": "code",
   "execution_count": 41,
   "metadata": {},
   "outputs": [
    {
     "name": "stdout",
     "output_type": "stream",
     "text": [
      "0.1111111111111111\n",
      "2.5555555555555554\n",
      "0.4444444444444444\n",
      "0.5555555555555556\n",
      "0.5555555555555556\n",
      "0.6666666666666666\n",
      "0.0\n"
     ]
    }
   ],
   "source": [
    "# Assignment 12: Generator with Exception Handling\n",
    "def safe_divide(numbers,divisor):\n",
    "    for num in numbers:\n",
    "        try:\n",
    "            yield num / divisor\n",
    "        except ZeroDivisionError as err:\n",
    "            print(err)\n",
    "\n",
    "result = safe_divide([1,23,4,5,5,6,0],9)\n",
    "for i in result:\n",
    "    print(i)"
   ]
  },
  {
   "cell_type": "code",
   "execution_count": 44,
   "metadata": {},
   "outputs": [],
   "source": [
    "# Assignment 13: context Manager Decorator\n",
    "def open_file(filename,mode):\n",
    "    def decorator(func):\n",
    "        def wrapper(*args,**kwargs):\n",
    "            with open(filename,mode) as file:\n",
    "                return func(file,*args,**kwargs)\n",
    "        return wrapper\n",
    "    return decorator\n",
    "\n",
    "@open_file(\"sample.txt\",'w')\n",
    "def write_to_file(file,text):\n",
    "    file.write(text)\n",
    "    \n",
    "write_to_file(\"Hello How are u ?\")"
   ]
  },
  {
   "cell_type": "code",
   "execution_count": 45,
   "metadata": {},
   "outputs": [
    {
     "name": "stdout",
     "output_type": "stream",
     "text": [
      "11\n",
      "12\n",
      "13\n",
      "14\n",
      "15\n",
      "16\n",
      "17\n",
      "18\n",
      "19\n",
      "20\n"
     ]
    }
   ],
   "source": [
    "# Assignment 14: Infinite Iterator\n",
    "class InfiniteCounter:\n",
    "    def __init__(self,start):\n",
    "        self.start = start \n",
    "    def __iter__(self):\n",
    "        return self\n",
    "    \n",
    "    def __next__(self):\n",
    "        self.start += 1\n",
    "        return self.start\n",
    "    \n",
    "counter = InfiniteCounter(10)\n",
    "for _ in range(10):\n",
    "    print(next(counter))"
   ]
  },
  {
   "cell_type": "code",
   "execution_count": 48,
   "metadata": {},
   "outputs": [
    {
     "name": "stdout",
     "output_type": "stream",
     "text": [
      "-2\n",
      "-4\n",
      "-6\n",
      "-8\n",
      "-10\n",
      "-12\n",
      "-14\n",
      "-16\n",
      "-18\n",
      "-20\n"
     ]
    }
   ],
   "source": [
    "# Assignment 15: Generator Pipeline\n",
    "def integers():\n",
    "    for i in range(1,11):\n",
    "        yield i\n",
    "        \n",
    "def doubles(numbers):\n",
    "    for num in numbers:\n",
    "        yield 2* num \n",
    "\n",
    "def negatives(numbers):\n",
    "    for num in numbers:\n",
    "        yield -num \n",
    "int_gen = integers()\n",
    "double_gen = doubles(int_gen)\n",
    "neg_gen = negatives(double_gen)\n",
    "\n",
    "for value in neg_gen:\n",
    "    print(value)\n",
    "\n",
    "\n",
    "    "
   ]
  },
  {
   "cell_type": "code",
   "execution_count": null,
   "metadata": {},
   "outputs": [],
   "source": []
  }
 ],
 "metadata": {
  "kernelspec": {
   "display_name": "Python 3",
   "language": "python",
   "name": "python3"
  },
  "language_info": {
   "codemirror_mode": {
    "name": "ipython",
    "version": 3
   },
   "file_extension": ".py",
   "mimetype": "text/x-python",
   "name": "python",
   "nbconvert_exporter": "python",
   "pygments_lexer": "ipython3",
   "version": "3.11.2"
  }
 },
 "nbformat": 4,
 "nbformat_minor": 2
}
