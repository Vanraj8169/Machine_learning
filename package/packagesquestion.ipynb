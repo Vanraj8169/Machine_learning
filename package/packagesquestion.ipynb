{
 "cells": [
  {
   "cell_type": "markdown",
   "metadata": {},
   "source": [
    "# Module 5: Modules and Packages Assignments\n",
    "## Lesson 5.1: Importing Modules\n",
    "### Assignment 1: Importing and Using Modules\n",
    "\n",
    "Import the `math` module and use it to calculate the square root of 25 and the sine of 90 degrees.\n",
    "\n",
    "### Assignment 2: Aliasing Modules\n",
    "\n",
    "Import the `datetime` module with an alias and use it to print the current date and time.\n",
    "\n",
    "### Assignment 3: Importing Specific Functions\n",
    "\n",
    "Import the `randint` function from the `random` module and use it to generate a random integer between 1 and 100.\n",
    "\n",
    "### Assignment 4: Importing Multiple Functions\n",
    "\n",
    "Import the `sqrt` and `pow` functions from the `math` module and use them to calculate the square root of 16 and 2 raised to the power of 3.\n",
    "\n",
    "### Assignment 5: Handling Import Errors\n",
    "\n",
    "Write code that attempts to import a non-existent module and gracefully handles the import error by printing an error message.\n",
    "\n",
    "## Lesson 5.2: Standard Library Overview\n",
    "### Assignment 6: Working with the `os` Module\n",
    "\n",
    "Use the `os` module to create a new directory, list the contents of the current directory, and remove the newly created directory.\n",
    "\n",
    "### Assignment 7: Working with the `sys` Module\n",
    "\n",
    "Use the `sys` module to print the Python version currently in use and the command-line arguments passed to the script.\n",
    "\n",
    "### Assignment 8: Working with the `math` Module\n",
    "\n",
    "Use the `math` module to calculate the greatest common divisor (GCD) of two numbers and the factorial of a number.\n",
    "\n",
    "### Assignment 9: Working with the `datetime` Module\n",
    "\n",
    "Use the `datetime` module to print the current date, calculate the date 100 days from today, and determine the day of the week for a given date.\n",
    "\n",
    "### Assignment 10: Working with the `random` Module\n",
    "\n",
    "Use the `random` module to generate a list of 5 random numbers between 1 and 50 and shuffle the elements of a list.\n",
    "\n",
    "## Lesson 5.3: Creating and Using Packages\n",
    "### Assignment 11: Creating a Simple Package\n",
    "\n",
    "Create a package named `mypackage` with two modules: `module1` and `module2`. `module1` should contain a function that adds two numbers, and `module2` should contain a function that multiplies two numbers. Write code to use these functions.\n",
    "\n",
    "### Assignment 12: Using `__init__.py`\n",
    "\n",
    "Modify the `mypackage` package to include an `__init__.py` file that imports the functions from `module1` and `module2`. Write code to use these functions.\n",
    "\n",
    "### Assignment 13: Importing from a Package\n",
    "\n",
    "Write code to import and use the functions from `mypackage` without explicitly importing `module1` and `module2`.\n",
    "\n",
    "### Assignment 14: Relative Imports\n",
    "\n",
    "Create a subpackage named `subpackage` within `mypackage` and move `module2` into `subpackage`. Modify the import statements in `__init__.py` to use relative imports. Write code to use the functions from both modules.\n",
    "\n",
    "### Assignment 15: Handling Package Import Errors\n",
    "\n",
    "Write code that attempts to import a non-existent function from `mypackage` and gracefully handles the import error by printing an error message."
   ]
  },
  {
   "cell_type": "code",
   "execution_count": 4,
   "metadata": {},
   "outputs": [
    {
     "name": "stdout",
     "output_type": "stream",
     "text": [
      "0.8939966636005579\n"
     ]
    }
   ],
   "source": [
    "# Assignment 1\n",
    "import math\n",
    "sqrt = math.sqrt(25)\n",
    "sine = math.sin(90)\n"
   ]
  },
  {
   "cell_type": "code",
   "execution_count": 11,
   "id": "8f8b7a05",
   "metadata": {},
   "outputs": [
    {
     "name": "stdout",
     "output_type": "stream",
     "text": [
      "2024-07-04 21:40:37.498362\n"
     ]
    }
   ],
   "source": [
    "#Assignment 2\n",
    "import datetime\n",
    "current_date = datetime.date.today()\n",
    "time = datetime.datetime.now()\n",
    "print(time)\n"
   ]
  },
  {
   "cell_type": "code",
   "execution_count": 12,
   "id": "126c709c",
   "metadata": {},
   "outputs": [
    {
     "name": "stdout",
     "output_type": "stream",
     "text": [
      "48\n"
     ]
    }
   ],
   "source": [
    "#Assignment 3\n",
    "import random \n",
    "randomNumber = random.randint(1,100)\n",
    "print(randomNumber)"
   ]
  },
  {
   "cell_type": "code",
   "execution_count": 17,
   "id": "11702928",
   "metadata": {},
   "outputs": [
    {
     "name": "stdout",
     "output_type": "stream",
     "text": [
      "Sqrt: 5.0\n",
      "Power: 9.0\n"
     ]
    }
   ],
   "source": [
    "# Assignment 4\n",
    "import math\n",
    "ans = math.sqrt(25)\n",
    "power = math.pow(3,2)\n",
    "print(f\"Sqrt:\",ans)\n",
    "print(f\"Power:\",power)"
   ]
  },
  {
   "cell_type": "code",
   "execution_count": null,
   "id": "29f408ef",
   "metadata": {},
   "outputs": [],
   "source": [
    "# Assignment 5\n",
    "try:\n",
    "    import non_existent_module\n",
    "except ImportError:\n",
    "    print(f\"Error: {e}. The module could not be found.\")"
   ]
  },
  {
   "cell_type": "code",
   "execution_count": 24,
   "id": "e2bb9a17",
   "metadata": {},
   "outputs": [
    {
     "name": "stdout",
     "output_type": "stream",
     "text": [
      "new_dir\n",
      "packagesquestion.ipynb\n",
      "packagessolution.ipynb\n"
     ]
    }
   ],
   "source": [
    "# Assignment 6\n",
    "import os\n",
    "# os.mkdir(\"new_dir\")\n",
    "for item in os.listdir(\".\"):\n",
    "    print(item)\n",
    "   \n",
    "os.rmdir(\"new_dir\")"
   ]
  },
  {
   "cell_type": "code",
   "execution_count": 28,
   "id": "439ae5c3",
   "metadata": {},
   "outputs": [
    {
     "name": "stdout",
     "output_type": "stream",
     "text": [
      "3.11.2 (tags/v3.11.2:878ead1, Feb  7 2023, 16:38:35) [MSC v.1934 64 bit (AMD64)]\n",
      "['C:\\\\Users\\\\Vanraj\\\\AppData\\\\Roaming\\\\Python\\\\Python311\\\\site-packages\\\\ipykernel_launcher.py', '--f=c:\\\\Users\\\\Vanraj\\\\AppData\\\\Roaming\\\\jupyter\\\\runtime\\\\kernel-v2-8000rlty0qqwEEVp.json']\n"
     ]
    }
   ],
   "source": [
    "# Assignment 7\n",
    "# Use the `sys` module to print the Python version currently in use and the command-line arguments passed to the script.\n",
    "import sys \n",
    "print(sys.version)\n",
    "print(sys.argv)\n"
   ]
  },
  {
   "cell_type": "code",
   "execution_count": 31,
   "id": "14351e8d",
   "metadata": {},
   "outputs": [
    {
     "name": "stdout",
     "output_type": "stream",
     "text": [
      "120\n",
      "1\n"
     ]
    }
   ],
   "source": [
    "#Assignment 8\n",
    "import math\n",
    "gcd = math.gcd(18,19)\n",
    "factorial = math.factorial(5)\n",
    "print(factorial)\n",
    "print(gcd)"
   ]
  },
  {
   "cell_type": "code",
   "execution_count": 33,
   "id": "d69f7318",
   "metadata": {},
   "outputs": [
    {
     "ename": "AttributeError",
     "evalue": "'datetime.date' object has no attribute 'timedelta'",
     "output_type": "error",
     "traceback": [
      "\u001b[1;31m---------------------------------------------------------------------------\u001b[0m",
      "\u001b[1;31mAttributeError\u001b[0m                            Traceback (most recent call last)",
      "Cell \u001b[1;32mIn[33], line 5\u001b[0m\n\u001b[0;32m      2\u001b[0m \u001b[38;5;28;01mimport\u001b[39;00m \u001b[38;5;21;01mdatetime\u001b[39;00m\n\u001b[0;32m      4\u001b[0m current_date \u001b[38;5;241m=\u001b[39m datetime\u001b[38;5;241m.\u001b[39mdate\u001b[38;5;241m.\u001b[39mtoday()\n\u001b[1;32m----> 5\u001b[0m time_difference \u001b[38;5;241m=\u001b[39m \u001b[43mcurrent_date\u001b[49m\u001b[38;5;241;43m.\u001b[39;49m\u001b[43mtimedelta\u001b[49m(days\u001b[38;5;241m=\u001b[39m\u001b[38;5;241m100\u001b[39m)\n\u001b[0;32m      6\u001b[0m time_difference\n",
      "\u001b[1;31mAttributeError\u001b[0m: 'datetime.date' object has no attribute 'timedelta'"
     ]
    }
   ],
   "source": [
    "# Assignment 9\n",
    "import datetime\n",
    "\n",
    "current_date = datetime.date.today()\n",
    "time_difference = current_date.timedelta(days=100)\n",
    "time_difference"
   ]
  },
  {
   "cell_type": "code",
   "execution_count": null,
   "id": "f72b9f8b",
   "metadata": {},
   "outputs": [],
   "source": []
  }
 ],
 "metadata": {
  "kernelspec": {
   "display_name": "Python 3",
   "language": "python",
   "name": "python3"
  },
  "language_info": {
   "codemirror_mode": {
    "name": "ipython",
    "version": 3
   },
   "file_extension": ".py",
   "mimetype": "text/x-python",
   "name": "python",
   "nbconvert_exporter": "python",
   "pygments_lexer": "ipython3",
   "version": "3.11.2"
  }
 },
 "nbformat": 4,
 "nbformat_minor": 5
}
