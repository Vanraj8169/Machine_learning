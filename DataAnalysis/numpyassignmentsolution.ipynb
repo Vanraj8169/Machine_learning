{
 "cells": [
  {
   "cell_type": "code",
   "execution_count": 1,
   "metadata": {},
   "outputs": [
    {
     "name": "stdout",
     "output_type": "stream",
     "text": [
      "Requirement already satisfied: numpy in c:\\users\\vanraj\\appdata\\local\\programs\\python\\python311\\lib\\site-packages (1.24.2)\n",
      "Note: you may need to restart the kernel to use updated packages.\n"
     ]
    },
    {
     "name": "stderr",
     "output_type": "stream",
     "text": [
      "\n",
      "[notice] A new release of pip available: 22.3.1 -> 24.1.2\n",
      "[notice] To update, run: python.exe -m pip install --upgrade pip\n"
     ]
    }
   ],
   "source": [
    "pip install numpy"
   ]
  },
  {
   "cell_type": "code",
   "execution_count": 2,
   "metadata": {},
   "outputs": [],
   "source": [
    "import numpy as np"
   ]
  },
  {
   "cell_type": "code",
   "execution_count": 10,
   "metadata": {},
   "outputs": [
    {
     "data": {
      "text/plain": [
       "array([[ 3,  3,  1,  2, 11],\n",
       "       [ 3,  2,  1,  4, 16],\n",
       "       [ 3, 13,  1,  2,  6],\n",
       "       [10, 15,  1,  9, 11],\n",
       "       [ 3,  5,  1, 18,  1]])"
      ]
     },
     "execution_count": 10,
     "metadata": {},
     "output_type": "execute_result"
    }
   ],
   "source": [
    "# Assignment 1: Array Creation and Manipulation\n",
    "arr = np.random.randint(1,20,(5,5))\n",
    "arr[0:,2] = 1\n",
    "arr\n"
   ]
  },
  {
   "cell_type": "code",
   "execution_count": 11,
   "metadata": {},
   "outputs": [
    {
     "data": {
      "text/plain": [
       "array([[ 0,  8, 12,  6],\n",
       "       [ 7,  0,  3, 12],\n",
       "       [11, 10,  0,  3],\n",
       "       [15,  7, 13,  0]])"
      ]
     },
     "execution_count": 11,
     "metadata": {},
     "output_type": "execute_result"
    }
   ],
   "source": [
    "arr = np.random.randint(1,16,(4,4))\n",
    "\n",
    "np.fill_diagonal(arr,0)\n",
    "arr"
   ]
  },
  {
   "cell_type": "code",
   "execution_count": 13,
   "metadata": {},
   "outputs": [
    {
     "data": {
      "text/plain": [
       "array([[15, 10, 18, 32],\n",
       "       [35, 15,  7, 17],\n",
       "       [ 2, 31,  3, 31],\n",
       "       [26, 11, 12, 13]])"
      ]
     },
     "execution_count": 13,
     "metadata": {},
     "output_type": "execute_result"
    }
   ],
   "source": [
    "# Assignment 2: Array Indexing and Slicing\n",
    "arr = np.random.randint(1,36,(6,6))\n",
    "arr[2:6,1:5]"
   ]
  },
  {
   "cell_type": "code",
   "execution_count": 21,
   "metadata": {},
   "outputs": [
    {
     "name": "stdout",
     "output_type": "stream",
     "text": [
      "[[24 13  2 31 37]\n",
      " [12  9 49 34  9]\n",
      " [18 15 25 12 47]\n",
      " [37 31  9 14 37]\n",
      " [28 48  7 33 10]]\n",
      "[24 13  2 31 37 28 48  7 33 10 12 18 37  9 47 37]\n"
     ]
    }
   ],
   "source": [
    "arr = np.random.randint(1,50,(5,5))\n",
    "print(arr)\n",
    "row,col = arr.shape\n",
    "result =  np.concatenate((arr[0, :], arr[-1, :], arr[1:-1, 0], arr[1:-1, -1]))\n",
    "print(result)"
   ]
  },
  {
   "cell_type": "code",
   "execution_count": 24,
   "metadata": {},
   "outputs": [
    {
     "name": "stdout",
     "output_type": "stream",
     "text": [
      "[[36 32 30 14]\n",
      " [38 14 45 14]\n",
      " [33 22 28 35]]\n",
      "[[ 22  10 -16  -8]\n",
      " [ 18  10  -9  -4]\n",
      " [ 23  -8  24 -17]]\n",
      "[[203 231 161  33]\n",
      " [280  24 486  45]\n",
      " [140 105  52 234]]\n",
      "[[ 4.14285714  1.90909091  0.30434783  0.27272727]\n",
      " [ 2.8         6.          0.66666667  0.55555556]\n",
      " [ 5.6         0.46666667 13.          0.34615385]]\n"
     ]
    }
   ],
   "source": [
    "# Assignment 3: Array Operations\n",
    "arr1 = np.random.randint(1,30,(3,4))\n",
    "arr2 = np.random.randint(1,30,(3,4))\n",
    "\n",
    "add = arr1 + arr2\n",
    "sub = arr1 - arr2\n",
    "mul = arr1 * arr2\n",
    "div = arr1 / arr2\n",
    "print(add)\n",
    "print(sub)\n",
    "print(mul)\n",
    "print(div)"
   ]
  },
  {
   "cell_type": "code",
   "execution_count": 26,
   "metadata": {},
   "outputs": [
    {
     "name": "stdout",
     "output_type": "stream",
     "text": [
      "Row wise addition: [10 26 42 58]\n",
      "Col wise addition: [28 32 36 40]\n"
     ]
    }
   ],
   "source": [
    "arr = np.arange(1,17).reshape((4,4))\n",
    "row_sum = np.sum(arr,axis=1)\n",
    "col_sum = np.sum(arr,axis=0)\n",
    "result = row_sum + col_sum\n",
    "\n",
    "print(f\"Row wise addition: {row_sum}\")\n",
    "print(f\"Col wise addition: {col_sum}\")\n"
   ]
  },
  {
   "cell_type": "code",
   "execution_count": 29,
   "metadata": {},
   "outputs": [
    {
     "name": "stdout",
     "output_type": "stream",
     "text": [
      "Mean: 11.44\n",
      "Media: 12.0\n",
      "Standard Deviation: 6.145437331874763\n",
      "Variance: 37.7664\n"
     ]
    }
   ],
   "source": [
    "# Assignment 4: Statistical Operations\n",
    "arr = np.random.randint(1,21,(5,5))\n",
    "mean = np.mean(arr)\n",
    "median = np.median(arr)\n",
    "std_dev = np.std(arr)\n",
    "var = np.var(arr)\n",
    "\n",
    "print(f\"Mean: {mean}\\nMedia: {median}\\nStandard Deviation: {std_dev}\\nVariance: {var}\")"
   ]
  },
  {
   "cell_type": "code",
   "execution_count": 30,
   "metadata": {},
   "outputs": [
    {
     "name": "stdout",
     "output_type": "stream",
     "text": [
      "[[ 0.32496684  0.74278135  1.16059586]\n",
      " [-0.92847669 -1.3462912   1.57841037]\n",
      " [ 0.32496684 -0.92847669 -0.92847669]]\n"
     ]
    }
   ],
   "source": [
    "arr = np.random.randint(1,9,(3,3))\n",
    "\n",
    "mean = np.mean(arr)\n",
    "std_dev = np.std(arr)\n",
    "\n",
    "normalized = (arr - mean)/std_dev\n",
    "print(normalized)"
   ]
  },
  {
   "cell_type": "code",
   "execution_count": 31,
   "metadata": {},
   "outputs": [
    {
     "name": "stdout",
     "output_type": "stream",
     "text": [
      "Original Array: [[81 48 87]\n",
      " [54 58 63]\n",
      " [ 1 84 63]]\n",
      "Row Array: [2 2 8]\n",
      "Resultant Array: [[83 50 95]\n",
      " [56 60 71]\n",
      " [ 3 86 71]]\n"
     ]
    }
   ],
   "source": [
    "# Assignment 5: Broadcasting\n",
    "arr = np.random.randint(1,100,(3,3))\n",
    "row_array = np.random.randint(1,11,(3,))\n",
    "\n",
    "print(f\"Original Array: {arr}\")\n",
    "print(f\"Row Array: {row_array}\")\n",
    "\n",
    "result = arr + row_array\n",
    "print(f\"Resultant Array: {result}\")"
   ]
  },
  {
   "cell_type": "code",
   "execution_count": 34,
   "metadata": {},
   "outputs": [
    {
     "name": "stdout",
     "output_type": "stream",
     "text": [
      "Result Array: [[14  5 30  7]\n",
      " [ 6 41 29 37]\n",
      " [17 27 13 44]\n",
      " [ 3 17 20 16]]\n"
     ]
    }
   ],
   "source": [
    "arr = np.random.randint(1,50,(4,4))\n",
    "oned_array = np.random.randint(1,11,(4,))\n",
    "\n",
    "result = arr - oned_array\n",
    "print(f\"Result Array: {result}\")"
   ]
  },
  {
   "cell_type": "code",
   "execution_count": 35,
   "metadata": {},
   "outputs": [
    {
     "name": "stdout",
     "output_type": "stream",
     "text": [
      "Determinant: 167.99999999999997\n",
      "Inverse: [[ 0.19047619  0.04761905 -0.0952381 ]\n",
      " [-0.20238095  0.26190476 -0.02380952]\n",
      " [-0.0297619  -0.22619048  0.20238095]]\n",
      "Eigen Value: [18.56133178+0.j         2.71933411+1.2869719j  2.71933411-1.2869719j]\n"
     ]
    }
   ],
   "source": [
    "# Assignment 6: Linear Algebra\n",
    "arr = np.random.randint(1,11,(3,3))\n",
    "determinant = np.linalg.det(arr)\n",
    "\n",
    "inverse = np.linalg.inv(arr)\n",
    "\n",
    "eigen_value = np.linalg.eigvals(arr)\n",
    "\n",
    "print(f\"Determinant: {determinant}\\nInverse: {inverse}\\nEigen Value: {eigen_value}\")"
   ]
  },
  {
   "cell_type": "code",
   "execution_count": 36,
   "metadata": {},
   "outputs": [
    {
     "name": "stdout",
     "output_type": "stream",
     "text": [
      "Result: [[38 40]\n",
      " [45 96]]\n"
     ]
    }
   ],
   "source": [
    "arr1 = np.random.randint(1,11,(2,3))\n",
    "arr2 = np.random.randint(1,11,(3,2))\n",
    "\n",
    "result = np.matmul(arr1,arr2)\n",
    "print(f\"Result: {result}\")"
   ]
  },
  {
   "cell_type": "code",
   "execution_count": 39,
   "metadata": {},
   "outputs": [],
   "source": [
    "# Assignment 7: Advanced Array Manipulation\n",
    "arr = np.arange(1,10).reshape((3,3))\n",
    "reshaped_arr1 = arr.reshape((1,9))\n",
    "reshaped_arr2 = arr.reshape((9,1))"
   ]
  },
  {
   "cell_type": "code",
   "execution_count": 42,
   "metadata": {},
   "outputs": [
    {
     "name": "stdout",
     "output_type": "stream",
     "text": [
      "[ 1  2  3  4  5  6  7  8  9 10 11 12 13 14 15 16 17 18 19 20 21 22 23 24\n",
      " 25]\n",
      "[[ 1  2  3  4  5]\n",
      " [ 6  7  8  9 10]\n",
      " [11 12 13 14 15]\n",
      " [16 17 18 19 20]\n",
      " [21 22 23 24 25]]\n"
     ]
    }
   ],
   "source": [
    "arr = np.arange(1,26).reshape((5,5))\n",
    "flattened_array = np.ndarray.flatten(arr)\n",
    "print(flattened_array)\n",
    "reshaped = flattened_array.reshape((5,5))\n",
    "print(reshaped)"
   ]
  },
  {
   "cell_type": "code",
   "execution_count": 43,
   "metadata": {},
   "outputs": [
    {
     "name": "stdout",
     "output_type": "stream",
     "text": [
      "Corner Element: [ 1  5 21 25]\n"
     ]
    }
   ],
   "source": [
    "# Assignment 8: Fancy Indexing and Boolean Indexing\n",
    "arr = np.arange(1,26).reshape((5,5))\n",
    "corners = arr[[0, 0, -1, -1], [0, -1, 0, -1]]\n",
    "print(f\"Corner Element: {corners}\")"
   ]
  },
  {
   "cell_type": "code",
   "execution_count": 46,
   "metadata": {},
   "outputs": [
    {
     "name": "stdout",
     "output_type": "stream",
     "text": [
      "[[ 1  2  3  4]\n",
      " [ 5  6  7  8]\n",
      " [ 9 10 10 10]\n",
      " [10 10 10 10]]\n"
     ]
    }
   ],
   "source": [
    "arr = np.arange(1,17).reshape((4,4))\n",
    "arr[arr > 10] = 10\n",
    "print(arr)"
   ]
  },
  {
   "cell_type": "code",
   "execution_count": 48,
   "metadata": {},
   "outputs": [
    {
     "name": "stdout",
     "output_type": "stream",
     "text": [
      "Original Array: \n",
      "[('Alice', 25, 55.5) ('Bob', 30, 85.3) ('Charlie', 20, 65.2)]\n",
      "[('Charlie', 20, 65.2) ('Alice', 25, 55.5) ('Bob', 30, 85.3)]\n"
     ]
    }
   ],
   "source": [
    "# Assignment 9: Structured Arrays\n",
    "data_type = [('name','U10'),('age','i4'),('weight','f4')]\n",
    "data = np.array([('Alice', 25, 55.5), ('Bob', 30, 85.3), ('Charlie', 20, 65.2)], dtype=data_type)\n",
    "print(\"Original Array: \")\n",
    "print(data)\n",
    "# sort the array by age\n",
    "sorted_data = np.sort(data,order='age')\n",
    "print(sorted_data)"
   ]
  },
  {
   "cell_type": "code",
   "execution_count": 49,
   "metadata": {},
   "outputs": [
    {
     "name": "stdout",
     "output_type": "stream",
     "text": [
      "Original Array\n",
      "[[0.         2.82842712 5.65685425]\n",
      " [2.82842712 0.         2.82842712]\n",
      " [5.65685425 2.82842712 0.        ]]\n"
     ]
    }
   ],
   "source": [
    "data_type = [('x','i4'),('y','i4')]\n",
    "data = np.array([(1,2),(3,4),(5,6)],dtype=data_type)\n",
    "print(\"Original Array\")\n",
    "distances = np.sqrt((data['x'][:, np.newaxis] - data['x'])**2 + (data['y'][:, np.newaxis] - data['y'])**2)\n",
    "\n",
    "print(distances)\n"
   ]
  },
  {
   "cell_type": "code",
   "execution_count": 51,
   "metadata": {},
   "outputs": [
    {
     "name": "stdout",
     "output_type": "stream",
     "text": [
      "[[ 2 12 17 14]\n",
      " [10 18 18  9]\n",
      " [12  9 13 11]\n",
      " [17 16  1  9]]\n",
      "[[2 -- -- --]\n",
      " [10 -- -- 9]\n",
      " [-- 9 -- --]\n",
      " [-- -- 1 9]]\n"
     ]
    }
   ],
   "source": [
    "# Assignment 10: Masked Arrays\n",
    "array = np.random.randint(1, 21, size=(4, 4))\n",
    "masked_array = np.ma.masked_greater(array, 10)\n",
    "print(array)\n",
    "print(masked_array)"
   ]
  },
  {
   "cell_type": "code",
   "execution_count": 54,
   "metadata": {},
   "outputs": [
    {
     "name": "stdout",
     "output_type": "stream",
     "text": [
      "[[-- 6 4]\n",
      " [2 -- 5]\n",
      " [8 3 --]]\n",
      "[[4 6 4]\n",
      " [2 4 5]\n",
      " [8 3 4]]\n"
     ]
    }
   ],
   "source": [
    "array = np.random.randint(1,11,(3,3))\n",
    "masked_array = np.ma.masked_array(array, mask=np.eye(3, dtype=bool))\n",
    "print(masked_array)\n",
    "mean_unmasked = masked_array.mean()\n",
    "masked_array = masked_array.filled(mean_unmasked)\n",
    "print(masked_array)"
   ]
  },
  {
   "cell_type": "code",
   "execution_count": null,
   "metadata": {},
   "outputs": [],
   "source": []
  }
 ],
 "metadata": {
  "kernelspec": {
   "display_name": "Python 3",
   "language": "python",
   "name": "python3"
  },
  "language_info": {
   "codemirror_mode": {
    "name": "ipython",
    "version": 3
   },
   "file_extension": ".py",
   "mimetype": "text/x-python",
   "name": "python",
   "nbconvert_exporter": "python",
   "pygments_lexer": "ipython3",
   "version": "3.11.2"
  }
 },
 "nbformat": 4,
 "nbformat_minor": 2
}
