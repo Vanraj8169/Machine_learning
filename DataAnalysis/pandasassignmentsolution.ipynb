{
 "cells": [
  {
   "cell_type": "code",
   "execution_count": 2,
   "metadata": {},
   "outputs": [
    {
     "name": "stdout",
     "output_type": "stream",
     "text": [
      "Requirement already satisfied: numpy in c:\\users\\vanraj\\appdata\\local\\programs\\python\\python38\\lib\\site-packages (1.24.2)\n"
     ]
    },
    {
     "name": "stderr",
     "output_type": "stream",
     "text": [
      "\n",
      "[notice] A new release of pip is available: 23.1 -> 24.1.1\n",
      "[notice] To update, run: c:\\users\\vanraj\\appdata\\local\\programs\\python\\python38\\python.exe -m pip install --upgrade pip\n"
     ]
    }
   ],
   "source": [
    "# pip install pandas\n",
    "!pip install numpy"
   ]
  },
  {
   "cell_type": "code",
   "execution_count": 3,
   "metadata": {},
   "outputs": [],
   "source": [
    "import pandas as pd\n",
    "import numpy as np"
   ]
  },
  {
   "cell_type": "code",
   "execution_count": 4,
   "metadata": {},
   "outputs": [
    {
     "name": "stdout",
     "output_type": "stream",
     "text": [
      "     B  C   D\n",
      "A            \n",
      "2    6  3  10\n",
      "10   8  1   2\n",
      "7   10  9   7\n",
      "7    6  8   9\n",
      "4   10  3   9\n",
      "2    9  7   1\n"
     ]
    }
   ],
   "source": [
    "# Assignment 1: DataFrame Creation and Indexing\n",
    "df = pd.DataFrame(np.random.randint(1,11,(6,4)),columns=['A','B','C','D'])\n",
    "df.set_index('A',inplace=True)\n",
    "print(df)"
   ]
  },
  {
   "cell_type": "code",
   "execution_count": 5,
   "metadata": {},
   "outputs": [
    {
     "data": {
      "text/plain": [
       "12"
      ]
     },
     "execution_count": 5,
     "metadata": {},
     "output_type": "execute_result"
    }
   ],
   "source": [
    "df = pd.DataFrame(np.random.randint(1,100),columns=['A','B','C'],index=['X','Y','Z'])\n",
    "df['B']['Y']"
   ]
  },
  {
   "cell_type": "code",
   "execution_count": 6,
   "metadata": {},
   "outputs": [
    {
     "name": "stdout",
     "output_type": "stream",
     "text": [
      "    A   B   C  Product\n",
      "0  54  40  66   142560\n",
      "1  80  56  62   277760\n",
      "2  70  37  62   160580\n",
      "3  17  64  86    93568\n",
      "4  18  67  56    67536\n"
     ]
    }
   ],
   "source": [
    "# Assignment 2: DataFrame Operations\n",
    "df = pd.DataFrame(np.random.randint(1,100,(5,3)),columns=['A','B','C'])\n",
    "df['Product'] = df['A'] * df['B'] * df['C']\n",
    "print(df)"
   ]
  },
  {
   "cell_type": "code",
   "execution_count": 7,
   "metadata": {},
   "outputs": [
    {
     "name": "stdout",
     "output_type": "stream",
     "text": [
      "    0   1   2\n",
      "0  30  97  12\n",
      "1  51  92  14\n",
      "2  66  14  94\n",
      "3  34  89  90\n",
      "0    139\n",
      "1    157\n",
      "2    174\n",
      "3    213\n",
      "dtype: int64\n",
      "0    181\n",
      "1    292\n",
      "2    210\n",
      "dtype: int64\n"
     ]
    }
   ],
   "source": [
    "df = pd.DataFrame(np.random.randint(1,100,(4,3)))\n",
    "print(df)\n",
    "row_wise_sum = np.sum(df,axis=1)\n",
    "print(row_wise_sum)\n",
    "col_wise_sum = np.sum(df,axis=0)\n",
    "print(col_wise_sum)"
   ]
  },
  {
   "cell_type": "code",
   "execution_count": 8,
   "metadata": {},
   "outputs": [
    {
     "name": "stdout",
     "output_type": "stream",
     "text": [
      "Original DataFrame\n",
      "    A   B   C\n",
      "0  92  86  54\n",
      "1  67  97  12\n",
      "2  79   2  52\n",
      "3  88  15  25\n",
      "4  80  51   1\n",
      "DataFrames with NaN values: \n",
      "      A     B     C\n",
      "0  92.0   NaN  54.0\n",
      "1  67.0  97.0  12.0\n",
      "2  79.0   2.0   NaN\n",
      "3  88.0  15.0  25.0\n",
      "4   NaN  51.0   1.0\n",
      "NaN values replaced with mean\n",
      "      A      B     C\n",
      "0  92.0  41.25  54.0\n",
      "1  67.0  97.00  12.0\n",
      "2  79.0   2.00  23.0\n",
      "3  88.0  15.00  25.0\n",
      "4  81.5  51.00   1.0\n"
     ]
    }
   ],
   "source": [
    "# Assignment 3: Data Cleaning\n",
    "df = pd.DataFrame(np.random.randint(1,100,size=(5,3)),columns=['A','B','C'])\n",
    "print('Original DataFrame')\n",
    "print(df)\n",
    "df.iloc[0,1] = np.nan\n",
    "df.iloc[2,2] = np.nan\n",
    "df.iloc[4,0] = np.nan\n",
    "print(\"DataFrames with NaN values: \")\n",
    "print(df)\n",
    "df.fillna(df.mean(),inplace=True)\n",
    "print(\"NaN values replaced with mean\")\n",
    "print(df)\n"
   ]
  },
  {
   "cell_type": "code",
   "execution_count": 9,
   "metadata": {},
   "outputs": [
    {
     "name": "stdout",
     "output_type": "stream",
     "text": [
      "Original DataFrame\n",
      "    A   B   C   D\n",
      "0  74  81  57  77\n",
      "1   6   1  85   4\n",
      "2  98  30  34  20\n",
      "3  15  75  54  86\n",
      "4  58  38  36  49\n",
      "5  63  31  84  74\n",
      "DataFrames with NaN values: \n",
      "      A     B     C   D\n",
      "0  74.0   NaN  57.0  77\n",
      "1   6.0   1.0  85.0   4\n",
      "2  98.0  30.0   NaN  20\n",
      "3  15.0  75.0  54.0  86\n",
      "4   NaN  38.0  36.0  49\n",
      "5  63.0  31.0  84.0  74\n",
      "DataFrames with no NaN values\n",
      "      A     B     C   D\n",
      "1   6.0   1.0  85.0   4\n",
      "3  15.0  75.0  54.0  86\n",
      "5  63.0  31.0  84.0  74\n"
     ]
    }
   ],
   "source": [
    "df = pd.DataFrame(np.random.randint(1,100,size=(6,4)),columns=['A','B','C','D'])\n",
    "print('Original DataFrame')\n",
    "print(df)\n",
    "df.iloc[0,1] = np.nan\n",
    "df.iloc[2,2] = np.nan\n",
    "df.iloc[4,0] = np.nan\n",
    "print(\"DataFrames with NaN values: \")\n",
    "print(df)\n",
    "df.dropna(inplace=True)\n",
    "print(\"DataFrames with no NaN values\")\n",
    "print(df)"
   ]
  },
  {
   "cell_type": "code",
   "execution_count": 10,
   "metadata": {},
   "outputs": [
    {
     "name": "stdout",
     "output_type": "stream",
     "text": [
      "Original DataFrame\n",
      "  Category  Value\n",
      "0        B     53\n",
      "1        A     35\n",
      "2        A     45\n",
      "3        A     11\n",
      "4        A     83\n",
      "5        C     76\n",
      "6        B     56\n",
      "7        C     77\n",
      "8        A     54\n",
      "9        C     86\n",
      "Grouped DataFrame\n",
      "          sum       mean\n",
      "Category                \n",
      "A         228  45.600000\n",
      "B         109  54.500000\n",
      "C         239  79.666667\n"
     ]
    }
   ],
   "source": [
    "# Assignment 4: Data Aggregation\n",
    "df = pd.DataFrame({'Category': np.random.choice(['A','B','C'],size=10),'Value': np.random.randint(1,100,size=10)})\n",
    "print('Original DataFrame')\n",
    "print(df)\n",
    "grouped = df.groupby('Category')['Value'].agg(['sum','mean'])\n",
    "print(\"Grouped DataFrame\")\n",
    "print(grouped)\n"
   ]
  },
  {
   "cell_type": "code",
   "execution_count": 11,
   "metadata": {},
   "outputs": [
    {
     "name": "stdout",
     "output_type": "stream",
     "text": [
      "Original DataFrame\n",
      "  Product Category  Sales\n",
      "0   Prod1        C     35\n",
      "1   Prod3        C     88\n",
      "2   Prod2        B     89\n",
      "3   Prod1        A     93\n",
      "4   Prod1        B     73\n",
      "5   Prod2        A      9\n",
      "6   Prod2        A     58\n",
      "7   Prod3        B     46\n",
      "8   Prod3        A     42\n",
      "9   Prod1        A      7\n",
      "Category\n",
      "A    209\n",
      "B    208\n",
      "C    123\n",
      "Name: Sales, dtype: int32\n"
     ]
    }
   ],
   "source": [
    "df = pd.DataFrame({'Product': np.random.choice(['Prod1','Prod2','Prod3'],size=10),'Category': np.random.choice(['A','B','C'],size=10),'Sales': np.random.randint(1,100,size=10)})\n",
    "print('Original DataFrame')\n",
    "print(df)\n",
    "grouped = df.groupby('Category')['Sales'].sum()\n",
    "print(grouped)"
   ]
  },
  {
   "cell_type": "code",
   "execution_count": 12,
   "metadata": {},
   "outputs": [
    {
     "name": "stdout",
     "output_type": "stream",
     "text": [
      "Merged DataFrames\n",
      "  Key  Value1  Value2\n",
      "0   A      32      31\n",
      "1   B      85      73\n",
      "2   C      83      37\n"
     ]
    }
   ],
   "source": [
    "# Assignment 5: Merging DataFrames\n",
    "df1 = pd.DataFrame({'Key': ['A','B','C','D'],'Value1': np.random.randint(1,100,size=4)})\n",
    "df2 = pd.DataFrame({'Key': ['A','B','C','E'], 'Value2': np.random.randint(1,100,size=4)})\n",
    "merged = pd.merge(df1,df2,on='Key')\n",
    "print(\"Merged DataFrames\")\n",
    "print(merged)"
   ]
  },
  {
   "cell_type": "code",
   "execution_count": 13,
   "metadata": {},
   "outputs": [
    {
     "name": "stdout",
     "output_type": "stream",
     "text": [
      "Concatenated DataFrames along rows\n",
      "  Key  Value1  Value2\n",
      "0   A    94.0     NaN\n",
      "1   B    80.0     NaN\n",
      "2   C     7.0     NaN\n",
      "3   D    14.0     NaN\n",
      "0   E     NaN    12.0\n",
      "1   F     NaN    81.0\n",
      "2   G     NaN    80.0\n",
      "3   H     NaN    18.0\n",
      "Concatenated DataFrames along columns\n",
      "  Key  Value1 Key  Value2\n",
      "0   A      94   E      12\n",
      "1   B      80   F      81\n",
      "2   C       7   G      80\n",
      "3   D      14   H      18\n"
     ]
    }
   ],
   "source": [
    "df1 = pd.DataFrame({'Key': ['A','B','C','D'],'Value1': np.random.randint(1,100,size=4)})\n",
    "df2 = pd.DataFrame({'Key': ['E','F','G','H'], 'Value2': np.random.randint(1,100,size=4)})\n",
    "concatenated_df_rows = pd.concat([df1,df2],axis=0)\n",
    "print(\"Concatenated DataFrames along rows\")\n",
    "print(concatenated_df_rows)\n",
    "concatenated_df_cols = pd.concat([df1,df2],axis=1)\n",
    "print(\"Concatenated DataFrames along columns\")\n",
    "print(concatenated_df_cols)"
   ]
  },
  {
   "cell_type": "code",
   "execution_count": 14,
   "metadata": {},
   "outputs": [
    {
     "name": "stdout",
     "output_type": "stream",
     "text": [
      "Original DataFrame\n",
      "Empty DataFrame\n",
      "Columns: []\n",
      "Index: [48, 41, 86, 8, 3, 36, 19, 18, 15, 33, 27, 80, 53, 71, 61, 86, 93, 66, 81, 93, 19, 18, 91, 34, 35, 21, 13, 75, 58, 91, 38, 45, 8, 79, 77, 40, 51, 61, 50, 65, 11, 22, 40, 89, 20, 51, 77, 82, 84, 98, 13, 10, 53, 93, 81, 23, 37, 12, 4, 77, 97, 92, 49, 54, 94, 71, 30, 25, 47, 64, 37, 67, 82, 79, 82]\n",
      "\n",
      "[75 rows x 0 columns]\n"
     ]
    }
   ],
   "source": [
    "# Assignment 6: Time Series Analysis\n",
    "date_rng = pd.date_range(start='2024-01-01',end='2024-03-15',freq='D')\n",
    "df = pd.DataFrame(date_rng,columns=['Date'])\n",
    "df['Date'] = np.random.randint(0,100,size=(len(date_rng)))\n",
    "df.set_index('Date',inplace=True)\n",
    "print('Original DataFrame')\n",
    "print(df)"
   ]
  },
  {
   "cell_type": "code",
   "execution_count": 15,
   "metadata": {},
   "outputs": [
    {
     "name": "stdout",
     "output_type": "stream",
     "text": [
      "Rolling mean DataFrame\n",
      "                Value\n",
      "Date                 \n",
      "2020-01-01        NaN\n",
      "2020-01-02        NaN\n",
      "2020-01-03        NaN\n",
      "2020-01-04        NaN\n",
      "2020-01-05        NaN\n",
      "...               ...\n",
      "2024-12-27  60.571429\n",
      "2024-12-28  61.857143\n",
      "2024-12-29  66.857143\n",
      "2024-12-30  63.285714\n",
      "2024-12-31  63.000000\n",
      "\n",
      "[1827 rows x 1 columns]\n"
     ]
    }
   ],
   "source": [
    "date_rng = pd.date_range(start='2020-01-01',end='2024-12-31',freq='D')\n",
    "df = pd.DataFrame(date_rng,columns=['Date'])\n",
    "df['Value'] = np.random.randint(1,100,size=(len(date_rng)))\n",
    "df.set_index('Date',inplace=True)\n",
    "rolling_mean = df.rolling(window=7).mean()\n",
    "print(\"Rolling mean DataFrame\")\n",
    "print(rolling_mean)"
   ]
  },
  {
   "cell_type": "code",
   "execution_count": 16,
   "metadata": {},
   "outputs": [
    {
     "name": "stdout",
     "output_type": "stream",
     "text": [
      "MultiIndex DataFrame:\n",
      "                      Value1  Value2  Value3\n",
      "Category SubCategory                        \n",
      "A        one              73      56      60\n",
      "         two              47      33      42\n",
      "B        one              51      62       1\n",
      "         two              69      32      38\n",
      "             Value1  Value2  Value3\n",
      "SubCategory                        \n",
      "one              73      56      60\n",
      "two              47      33      42\n",
      "Value1    69\n",
      "Value2    32\n",
      "Value3    38\n",
      "Name: (B, two), dtype: int32\n"
     ]
    }
   ],
   "source": [
    "# Assignment 7: MultiIndex DataFrame\n",
    "arrays = [['A', 'A', 'B', 'B'], ['one', 'two', 'one', 'two']]\n",
    "index = pd.MultiIndex.from_arrays(arrays=arrays,names=('Category','SubCategory'))\n",
    "df = pd.DataFrame(np.random.randint(1,100,(4,3)),index=index,columns=['Value1','Value2','Value3'])\n",
    "print(\"MultiIndex DataFrame:\")\n",
    "print(df)\n",
    "\n",
    "print(df.loc['A'])\n",
    "print(df.loc[('B','two')])"
   ]
  },
  {
   "cell_type": "code",
   "execution_count": 17,
   "metadata": {},
   "outputs": [
    {
     "name": "stdout",
     "output_type": "stream",
     "text": [
      "                      Value1  Value2  Value3\n",
      "Category SubCategory                        \n",
      "A        one              65      71      24\n",
      "         two              95      51      87\n",
      "B        one              18      63      88\n",
      "         two              15      91      31\n",
      "          Value1  Value2  Value3\n",
      "Category                        \n",
      "A            160     122     111\n",
      "B             33     154     119\n",
      "             Value1  Value2  Value3\n",
      "SubCategory                        \n",
      "one              83     134     112\n",
      "two             110     142     118\n"
     ]
    }
   ],
   "source": [
    "arrays = [['A','A','B','B'],['one','two','one','two']]\n",
    "index = pd.MultiIndex.from_arrays(arrays=arrays,names=('Category','SubCategory'))\n",
    "df = pd.DataFrame(np.random.randint(1,100,size=(4,3)),index=index,columns=['Value1','Value2','Value3'])\n",
    "print(df)\n",
    "category_sum = df.groupby('Category').agg('sum')\n",
    "print(category_sum)\n",
    "subCategory_sum = df.groupby('SubCategory').agg('sum')\n",
    "print(subCategory_sum)"
   ]
  },
  {
   "cell_type": "code",
   "execution_count": 20,
   "metadata": {},
   "outputs": [
    {
     "name": "stdout",
     "output_type": "stream",
     "text": [
      "Original DataFrame\n",
      "         Date Category  Value\n",
      "0  2022-01-05        B     56\n",
      "1  2022-01-03        B     56\n",
      "2  2022-01-06        C     22\n",
      "3  2022-01-05        C      1\n",
      "4  2022-01-01        A     64\n",
      "5  2022-01-10        C     30\n",
      "6  2022-01-06        C     95\n",
      "7  2022-01-05        B     21\n",
      "8  2022-01-05        C     31\n",
      "9  2022-01-08        B      3\n",
      "10 2022-01-05        B     51\n",
      "11 2022-01-02        A     91\n",
      "12 2022-01-05        B     40\n",
      "13 2022-01-08        B      1\n",
      "14 2022-01-06        B     25\n",
      "15 2022-01-06        C     48\n",
      "16 2022-01-09        B     45\n",
      "17 2022-01-05        A     15\n",
      "18 2022-01-05        B     71\n",
      "19 2022-01-03        A     16\n",
      "Pivot DataFrame\n",
      "Category       A      B      C\n",
      "Date                          \n",
      "2022-01-01  64.0    NaN    NaN\n",
      "2022-01-02  91.0    NaN    NaN\n",
      "2022-01-03  16.0   56.0    NaN\n",
      "2022-01-05  15.0  239.0   32.0\n",
      "2022-01-06   NaN   25.0  165.0\n",
      "2022-01-08   NaN    4.0    NaN\n",
      "2022-01-09   NaN   45.0    NaN\n",
      "2022-01-10   NaN    NaN   30.0\n"
     ]
    }
   ],
   "source": [
    "# Assignment 8: Pivot Tables\n",
    "date_rng = pd.date_range(start='2022-01-01', end='2022-01-10', freq='D')\n",
    "df = pd.DataFrame({'Date': np.random.choice(date_rng, size=20), 'Category': np.random.choice(['A', 'B', 'C'], size=20), 'Value': np.random.randint(1, 100, size=20)})\n",
    "print(\"Original DataFrame\")\n",
    "print(df)\n",
    "pivot_table = df.pivot_table(values='Value',index='Date',columns='Category',aggfunc='sum')\n",
    "print(\"Pivot DataFrame\")\n",
    "print(pivot_table)"
   ]
  },
  {
   "cell_type": "code",
   "execution_count": 24,
   "metadata": {},
   "outputs": [
    {
     "name": "stdout",
     "output_type": "stream",
     "text": [
      "Original DataFrame\n",
      "    Year Quarter  Revenue\n",
      "0   2022      Q4      547\n",
      "1   2022      Q3      579\n",
      "2   2022      Q4      959\n",
      "3   2021      Q2      995\n",
      "4   2022      Q1       84\n",
      "5   2020      Q1      988\n",
      "6   2022      Q4      595\n",
      "7   2022      Q3      936\n",
      "8   2021      Q1      179\n",
      "9   2022      Q2      621\n",
      "10  2022      Q4       38\n",
      "11  2022      Q1      717\n",
      "Pivoted DataFrame\n",
      "Quarter     Q1     Q2     Q3      Q4\n",
      "Year                                \n",
      "2020     988.0    NaN    NaN     NaN\n",
      "2021     179.0  995.0    NaN     NaN\n",
      "2022     400.5  621.0  757.5  534.75\n"
     ]
    }
   ],
   "source": [
    "df = pd.DataFrame({'Year': np.random.choice([2020,2021,2022],size=12),'Quarter': np.random.choice(['Q1','Q2','Q3','Q4'],size=12),'Revenue': np.random.randint(1,1000,size=12)})\n",
    "print(\"Original DataFrame\")\n",
    "print(df)\n",
    "pivot_table = df.pivot_table(values='Revenue',index='Year',columns='Quarter',aggfunc='mean')\n",
    "print(\"Pivoted DataFrame\")\n",
    "print(pivot_table)"
   ]
  },
  {
   "cell_type": "code",
   "execution_count": 27,
   "metadata": {},
   "outputs": [
    {
     "name": "stdout",
     "output_type": "stream",
     "text": [
      "Original DataFrame\n",
      "    0   1   2\n",
      "0  99  60  83\n",
      "1  94  89  18\n",
      "2  21  20  68\n",
      "3  94  81  88\n",
      "4  44  82  83\n",
      "Double Values\n",
      "     0    1    2\n",
      "0  198  120  166\n",
      "1  188  178   36\n",
      "2   42   40  136\n",
      "3  188  162  176\n",
      "4   88  164  166\n"
     ]
    }
   ],
   "source": [
    "# Assignment 9: Applying Functions\n",
    "df = pd.DataFrame(np.random.randint(1,100,size=(5,3)))\n",
    "print(\"Original DataFrame\")\n",
    "print(df)\n",
    "doubled_values = df.apply(lambda x:2*x)\n",
    "print(\"Double Values\")\n",
    "print(doubled_values)"
   ]
  },
  {
   "cell_type": "code",
   "execution_count": 28,
   "metadata": {},
   "outputs": [
    {
     "name": "stdout",
     "output_type": "stream",
     "text": [
      "Original DataFrame\n",
      "    0   1   2\n",
      "0  48  12  10\n",
      "1  67  67  54\n",
      "2  50  82  81\n",
      "3  78  99  15\n",
      "4  46  98  85\n",
      "5  53  26  45\n",
      "Sum of existing columns\n",
      "    0   1   2  Sum\n",
      "0  48  12  10   70\n",
      "1  67  67  54  188\n",
      "2  50  82  81  213\n",
      "3  78  99  15  192\n",
      "4  46  98  85  229\n",
      "5  53  26  45  124\n"
     ]
    }
   ],
   "source": [
    "df = pd.DataFrame(np.random.randint(1,100,size=(6,3)))\n",
    "print(\"Original DataFrame\")\n",
    "print(df)\n",
    "df['Sum'] = df.apply(lambda row:row.sum(),axis=1)\n",
    "print(\"Sum of existing columns\")\n",
    "print(df)"
   ]
  },
  {
   "cell_type": "code",
   "execution_count": 33,
   "metadata": {},
   "outputs": [
    {
     "name": "stdout",
     "output_type": "stream",
     "text": [
      "Original Series\n",
      "0         apple\n",
      "1        banana\n",
      "2        cherry\n",
      "3          date\n",
      "4    elderberry\n",
      "dtype: object\n",
      "Uppercase Text\n",
      "0         APPLE\n",
      "1        BANANA\n",
      "2        CHERRY\n",
      "3          DATE\n",
      "4    ELDERBERRY\n",
      "dtype: object\n"
     ]
    }
   ],
   "source": [
    "# Assignment 10: Working with Text Data\n",
    "series = pd.Series(['apple', 'banana', 'cherry', 'date', 'elderberry'])\n",
    "print(\"Original Series\")\n",
    "print(series)\n",
    "upper = series.str.upper()\n",
    "print(\"Uppercase Text\")\n",
    "print(upper)"
   ]
  },
  {
   "cell_type": "code",
   "execution_count": 37,
   "metadata": {},
   "outputs": [
    {
     "name": "stdout",
     "output_type": "stream",
     "text": [
      "Original Series\n",
      "0         apple\n",
      "1        banana\n",
      "2        cherry\n",
      "3          date\n",
      "4    elderberry\n",
      "dtype: object\n",
      "First three character of each string\n",
      "0    app\n",
      "1    ban\n",
      "2    che\n",
      "3    dat\n",
      "4    eld\n",
      "dtype: object\n"
     ]
    }
   ],
   "source": [
    "series = pd.Series(['apple', 'banana', 'cherry', 'date', 'elderberry'])\n",
    "print(\"Original Series\")\n",
    "print(series)\n",
    "first_three_char = series.str[:3]\n",
    "print(\"First three character of each string\")\n",
    "print(first_three_char)"
   ]
  },
  {
   "cell_type": "code",
   "execution_count": null,
   "metadata": {},
   "outputs": [],
   "source": []
  }
 ],
 "metadata": {
  "kernelspec": {
   "display_name": "Python 3",
   "language": "python",
   "name": "python3"
  },
  "language_info": {
   "codemirror_mode": {
    "name": "ipython",
    "version": 3
   },
   "file_extension": ".py",
   "mimetype": "text/x-python",
   "name": "python",
   "nbconvert_exporter": "python",
   "pygments_lexer": "ipython3",
   "version": "3.11.2"
  }
 },
 "nbformat": 4,
 "nbformat_minor": 2
}
