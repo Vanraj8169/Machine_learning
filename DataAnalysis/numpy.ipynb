{
 "cells": [
  {
   "cell_type": "code",
   "execution_count": 1,
   "metadata": {},
   "outputs": [
    {
     "name": "stdout",
     "output_type": "stream",
     "text": [
      "Requirement already satisfied: numpy in c:\\users\\vanraj\\appdata\\local\\programs\\python\\python311\\lib\\site-packages (1.24.2)\n",
      "Note: you may need to restart the kernel to use updated packages.\n"
     ]
    },
    {
     "name": "stderr",
     "output_type": "stream",
     "text": [
      "\n",
      "[notice] A new release of pip available: 22.3.1 -> 24.1.1\n",
      "[notice] To update, run: python.exe -m pip install --upgrade pip\n"
     ]
    }
   ],
   "source": [
    "pip install numpy"
   ]
  },
  {
   "cell_type": "code",
   "execution_count": 4,
   "metadata": {},
   "outputs": [
    {
     "name": "stdout",
     "output_type": "stream",
     "text": [
      "[1 2 3 5 6]\n",
      "(5,)\n"
     ]
    }
   ],
   "source": [
    "import numpy as np \n",
    "# 1D array\n",
    "arr1 = np.array([1,2,3,5,6])\n",
    "print(arr1)\n",
    "print(arr1.shape) "
   ]
  },
  {
   "cell_type": "code",
   "execution_count": 11,
   "metadata": {},
   "outputs": [
    {
     "data": {
      "text/plain": [
       "array([[  1,   2,   3,   5,   6],\n",
       "       [  1, 324,  34, 534, 634]])"
      ]
     },
     "execution_count": 11,
     "metadata": {},
     "output_type": "execute_result"
    }
   ],
   "source": [
    "# 2D array\n",
    "arr2 = np.array([[1,2,3,5,6],[1,324,34,534,634]])\n",
    "arr2.reshape(2,5)"
   ]
  },
  {
   "cell_type": "code",
   "execution_count": 12,
   "metadata": {},
   "outputs": [
    {
     "data": {
      "text/plain": [
       "array([[0],\n",
       "       [2],\n",
       "       [4],\n",
       "       [6],\n",
       "       [8]])"
      ]
     },
     "execution_count": 12,
     "metadata": {},
     "output_type": "execute_result"
    }
   ],
   "source": [
    "np.arange(0,10,2).reshape(5,1)"
   ]
  },
  {
   "cell_type": "code",
   "execution_count": 13,
   "metadata": {},
   "outputs": [
    {
     "data": {
      "text/plain": [
       "array([[1., 1., 1., 1.],\n",
       "       [1., 1., 1., 1.],\n",
       "       [1., 1., 1., 1.]])"
      ]
     },
     "execution_count": 13,
     "metadata": {},
     "output_type": "execute_result"
    }
   ],
   "source": [
    "np.ones((3,4))"
   ]
  },
  {
   "cell_type": "code",
   "execution_count": 15,
   "metadata": {},
   "outputs": [
    {
     "data": {
      "text/plain": [
       "array([[1., 0., 0.],\n",
       "       [0., 1., 0.],\n",
       "       [0., 0., 1.]])"
      ]
     },
     "execution_count": 15,
     "metadata": {},
     "output_type": "execute_result"
    }
   ],
   "source": [
    "# Identity Matrix\n",
    "np.eye(3)"
   ]
  },
  {
   "cell_type": "code",
   "execution_count": 17,
   "metadata": {},
   "outputs": [
    {
     "name": "stdout",
     "output_type": "stream",
     "text": [
      "Array:\n",
      " [[1 2 3]\n",
      " [4 5 6]]\n",
      "Shape: (2, 3)\n",
      "Number of dimensions: 2\n",
      "Size (number of elements): 6\n",
      "Data type: int32\n",
      "Item size (in bytes): 4\n"
     ]
    }
   ],
   "source": [
    "arr = np.array([[1,2,3],[4,5,6]])\n",
    "\n",
    "print(\"Array:\\n\",arr)\n",
    "print(\"Shape:\",arr.shape)\n",
    "print(\"Number of dimensions:\",arr.ndim)\n",
    "print(\"Size (number of elements):\",arr.size)\n",
    "print(\"Data type:\",arr.dtype)\n",
    "print(\"Item size (in bytes):\",arr.itemsize)"
   ]
  },
  {
   "cell_type": "code",
   "execution_count": 18,
   "metadata": {},
   "outputs": [
    {
     "name": "stdout",
     "output_type": "stream",
     "text": [
      "Addition:  [ 7  9 11 13 15]\n",
      "Subtraction:  [-5 -5 -5 -5 -5]\n",
      "Multiplication:  [ 6 14 24 36 50]\n",
      "Division:  [0.16666667 0.28571429 0.375      0.44444444 0.5       ]\n"
     ]
    }
   ],
   "source": [
    "arr1 = np.array([1,2,3,4,5])\n",
    "arr2 = np.array([6,7,8,9,10])\n",
    "\n",
    "# Element Wise Addition\n",
    "print(\"Addition: \",arr1+arr2)\n",
    "\n",
    "# Element wise Subtraction\n",
    "print(\"Subtraction: \",arr1-arr2)\n",
    "\n",
    "# Element Wise Multiplication\n",
    "print(\"Multiplication: \",arr1*arr2)\n",
    "\n",
    "# Element Wise Division\n",
    "print(\"Division: \",arr1/arr2)\n"
   ]
  },
  {
   "cell_type": "code",
   "execution_count": 20,
   "metadata": {},
   "outputs": [
    {
     "name": "stdout",
     "output_type": "stream",
     "text": [
      "[1.41421356 2.23606798 2.23606798 2.44948974 2.64575131]\n",
      "[   7.3890561   148.4131591   148.4131591   403.42879349 1096.63315843]\n",
      "[ 0.90929743 -0.95892427 -0.95892427 -0.2794155   0.6569866 ]\n",
      "[0.69314718 1.60943791 1.60943791 1.79175947 1.94591015]\n"
     ]
    }
   ],
   "source": [
    "## Universal Function\n",
    "arr = np.array([2,5,5,6,7])\n",
    "\n",
    "## Square root\n",
    "print(np.sqrt(arr))\n",
    "\n",
    "## Exponential\n",
    "print(np.exp(arr))\n",
    "\n",
    "## Sine\n",
    "print(np.sin(arr))\n",
    "\n",
    "## natural log\n",
    "print(np.log(arr))"
   ]
  },
  {
   "cell_type": "code",
   "execution_count": 26,
   "metadata": {},
   "outputs": [
    {
     "name": "stdout",
     "output_type": "stream",
     "text": [
      "[[3 4]\n",
      " [7 8]]\n"
     ]
    }
   ],
   "source": [
    "arr = np.array([[1,2,3,4],[5,6,7,8],[9,10,11,12]])\n",
    "\n",
    "print(arr[0:2,2:])"
   ]
  },
  {
   "cell_type": "code",
   "execution_count": 29,
   "metadata": {},
   "outputs": [
    {
     "name": "stdout",
     "output_type": "stream",
     "text": [
      "[[ 6  7]\n",
      " [10 11]]\n"
     ]
    }
   ],
   "source": [
    "print(arr[1:,1:3])"
   ]
  },
  {
   "cell_type": "code",
   "execution_count": 31,
   "metadata": {},
   "outputs": [
    {
     "name": "stdout",
     "output_type": "stream",
     "text": [
      "Normalized data: [-1.41421356 -0.70710678  0.          0.70710678  1.41421356]\n"
     ]
    }
   ],
   "source": [
    "# Normalization\n",
    "data = np.array([1,2,3,4,5])\n",
    "\n",
    "mean = np.mean(data)\n",
    "std_dev = np.std(data)\n",
    "\n",
    "# Normalize the data\n",
    "normalized_data = (data - mean)/std_dev\n",
    "print(\"Normalized data:\",normalized_data)"
   ]
  },
  {
   "cell_type": "code",
   "execution_count": 33,
   "metadata": {},
   "outputs": [
    {
     "name": "stdout",
     "output_type": "stream",
     "text": [
      "Mean:  3.0\n",
      "Median: 3.0\n",
      "Standard Deviation: 1.4142135623730951\n",
      "Variance: 2.0\n"
     ]
    }
   ],
   "source": [
    "mean = np.mean(data)\n",
    "print(\"Mean: \",mean)\n",
    "\n",
    "# Media \n",
    "median = np.median(data)\n",
    "print(\"Median:\",median)\n",
    "\n",
    "# Standard Deviation\n",
    "std_dev = np.std(data)\n",
    "print(\"Standard Deviation:\",std_dev)\n",
    "\n",
    "\n",
    "# Variance\n",
    "variance = np.var(data)\n",
    "print(\"Variance:\",variance)"
   ]
  },
  {
   "cell_type": "code",
   "execution_count": 34,
   "metadata": {},
   "outputs": [
    {
     "data": {
      "text/plain": [
       "array([5, 6, 7, 8])"
      ]
     },
     "execution_count": 34,
     "metadata": {},
     "output_type": "execute_result"
    }
   ],
   "source": [
    "# Logical Operation\n",
    "data = np.array([1,2,3,5,6,7,8,10])\n",
    "\n",
    "data[(data >=5)&(data <=8)]"
   ]
  },
  {
   "cell_type": "code",
   "execution_count": null,
   "metadata": {},
   "outputs": [],
   "source": []
  }
 ],
 "metadata": {
  "kernelspec": {
   "display_name": "Python 3",
   "language": "python",
   "name": "python3"
  },
  "language_info": {
   "codemirror_mode": {
    "name": "ipython",
    "version": 3
   },
   "file_extension": ".py",
   "mimetype": "text/x-python",
   "name": "python",
   "nbconvert_exporter": "python",
   "pygments_lexer": "ipython3",
   "version": "3.11.2"
  }
 },
 "nbformat": 4,
 "nbformat_minor": 2
}
