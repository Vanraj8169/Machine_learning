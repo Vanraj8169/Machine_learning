{
 "cells": [
  {
   "cell_type": "code",
   "execution_count": 3,
   "metadata": {},
   "outputs": [
    {
     "name": "stdout",
     "output_type": "stream",
     "text": [
      "division by zero\n"
     ]
    }
   ],
   "source": [
    "# Assignment 1: Handling Division by Zero\n",
    "def division_by_zero(num):\n",
    "    try:\n",
    "        result = 100/num\n",
    "    except ZeroDivisionError as err:\n",
    "        print(err)\n",
    "    \n",
    "division_by_zero(0)"
   ]
  },
  {
   "cell_type": "code",
   "execution_count": 4,
   "metadata": {},
   "outputs": [
    {
     "name": "stdout",
     "output_type": "stream",
     "text": [
      "Hello Who are you ?\n",
      "File closed\n"
     ]
    }
   ],
   "source": [
    "# Assignment 2: File Reading with Exception Handling\n",
    "def reading_file(file_path):\n",
    "    try:\n",
    "        file = open(file_path,'r')\n",
    "        content = file.read()\n",
    "    except FileNotFoundError as err:\n",
    "        print(err)\n",
    "    else:\n",
    "        print(content)\n",
    "    finally:\n",
    "        if 'file' in locals() or not file.closed():\n",
    "            file.close()\n",
    "            print('File closed')\n",
    "\n",
    "reading_file('data.txt')"
   ]
  },
  {
   "cell_type": "code",
   "execution_count": 13,
   "metadata": {},
   "outputs": [
    {
     "name": "stdout",
     "output_type": "stream",
     "text": [
      "Execution complete\n"
     ]
    },
    {
     "data": {
      "text/plain": [
       "3911"
      ]
     },
     "execution_count": 13,
     "metadata": {},
     "output_type": "execute_result"
    }
   ],
   "source": [
    "# Assignment 3: Handling Multiple Exceptions\n",
    "def handling_multi_exceptions(lst):\n",
    "    try:\n",
    "        result = sum(lst)\n",
    "    except TypeError as err:\n",
    "        print(err)\n",
    "        result = 0\n",
    "    finally:\n",
    "        print('Execution complete')\n",
    "        return result\n",
    "    \n",
    "handling_multi_exceptions([123,3423,231,134])"
   ]
  },
  {
   "cell_type": "code",
   "execution_count": 14,
   "metadata": {},
   "outputs": [
    {
     "name": "stdout",
     "output_type": "stream",
     "text": [
      "invalid literal for int() with base 10: 'lasjflajs'\n",
      "Execution complete\n"
     ]
    }
   ],
   "source": [
    "# Assignment 4: Exception Handling in Dictionary Access\n",
    "def handling_user_input():\n",
    "    try:\n",
    "        num = int(input(\"Enter a value:\"))\n",
    "    except ValueError as err:\n",
    "        print(err)\n",
    "    finally:\n",
    "        print('Execution complete')\n",
    "\n",
    "handling_user_input()"
   ]
  },
  {
   "cell_type": "code",
   "execution_count": 19,
   "metadata": {},
   "outputs": [
    {
     "name": "stdout",
     "output_type": "stream",
     "text": [
      "Invalid Key: 'lfsdj'\n",
      "Execution Completed\n"
     ]
    },
    {
     "data": {
      "text/plain": [
       "0"
      ]
     },
     "execution_count": 19,
     "metadata": {},
     "output_type": "execute_result"
    }
   ],
   "source": [
    "# Assignment 5: Exception Handling in Dictionary Access\n",
    "def access_dict(dict_items,key):\n",
    "    try:\n",
    "        result = dict_items[key]\n",
    "    except KeyError as err:\n",
    "        print(f\"Invalid Key: {err}\")\n",
    "        result = 0\n",
    "    finally:\n",
    "        print(\"Execution Completed\")\n",
    "        return result\n",
    "dict_items = {'animal':'lion',\n",
    "              'bird':'parrot'}\n",
    "access_dict(dict_items,'lfsdj')"
   ]
  },
  {
   "cell_type": "code",
   "execution_count": 27,
   "metadata": {},
   "outputs": [
    {
     "name": "stdout",
     "output_type": "stream",
     "text": [
      "Conversion attempt complete\n",
      "division by zero\n",
      "Division attempt complete\n",
      "Overall Execution complete\n"
     ]
    }
   ],
   "source": [
    "# Assignment 6: Nested Exception Handling\n",
    "def handle_nested_exception(s):\n",
    "    try:\n",
    "        try:\n",
    "            num = int(s)\n",
    "        except ValueError as err:\n",
    "            print(err)\n",
    "            num = None\n",
    "        finally:\n",
    "            print('Conversion attempt complete')\n",
    "        if num is not None:\n",
    "            try:\n",
    "                res = 10 /num\n",
    "            except ZeroDivisionError as err:\n",
    "                print(err)\n",
    "                res = None \n",
    "            finally:\n",
    "                print('Division attempt complete')\n",
    "            return res\n",
    "    finally:\n",
    "        print('Overall Execution complete')\n",
    "        \n",
    "handle_nested_exception('0')"
   ]
  },
  {
   "cell_type": "code",
   "execution_count": 31,
   "metadata": {},
   "outputs": [
    {
     "name": "stdout",
     "output_type": "stream",
     "text": [
      "list index out of range\n",
      "Execution Complete\n"
     ]
    }
   ],
   "source": [
    "# Assignment 7: Exception Handling in List Operations\n",
    "def access_list(lst,idx):\n",
    "    try:\n",
    "        result = lst[idx]\n",
    "    except IndexError as err:\n",
    "        print(err)\n",
    "        result = None\n",
    "    finally:\n",
    "        print('Execution Complete')\n",
    "    return result\n",
    "\n",
    "lst = [1,5,4,2,6,7,7]\n",
    "access_list(lst,60)"
   ]
  },
  {
   "cell_type": "code",
   "execution_count": 39,
   "metadata": {},
   "outputs": [
    {
     "name": "stdout",
     "output_type": "stream",
     "text": [
      "Execution Complete\n"
     ]
    },
    {
     "data": {
      "text/plain": [
       "'<!DOCTYPE html>\\n<html lang=\"en\">\\n  <head>\\n    <meta charset=\"UTF-8\" />\\n    <meta http-equiv=\"X-UA-Compatible\" content=\"IE=edge\" />\\n    <meta name=\"viewport\" content=\"width=device-width, initial-scale=1.0\" />\\n    <title>Vanraj Pardeshi</title>\\n\\n    <!--\\n    - favicon\\n  -->\\n    <link\\n      rel=\"shortcut icon\"\\n      href=\"./assets/images/favicon.ico\"\\n      type=\"image/x-icon\"\\n    />\\n\\n    <!--\\n    - custom css link\\n  -->\\n    <link rel=\"stylesheet\" href=\"./assets/css/style.css\" />\\n\\n    <!--\\n    - google font link\\n  -->\\n    <link rel=\"preconnect\" href=\"https://fonts.googleapis.com\" />\\n    <link rel=\"preconnect\" href=\"https://fonts.gstatic.com\" crossorigin />\\n    <link\\n      href=\"https://fonts.googleapis.com/css2?family=Poppins:wght@300;400;500;600&display=swap\"\\n      rel=\"stylesheet\"\\n    />\\n  </head>\\n\\n  <body>\\n    <!--\\n    - #MAIN\\n  -->\\n\\n    <main>\\n      <!--\\n      - #SIDEBAR\\n    -->\\n\\n      <aside class=\"sidebar\" data-sidebar>\\n        <div class=\"sidebar-info\">\\n          <figure class=\"avatar-box\">\\n            <img\\n              src=\"./assets/images/my-avatar.png\"\\n              alt=\"Vanraj Pardeshi\"\\n              width=\"80\"\\n            />\\n          </figure>\\n\\n          <div class=\"info-content\">\\n            <h1 class=\"name\" title=\"Vanraj Pardeshi\">Vanraj Pardeshi</h1>\\n\\n            <p class=\"title\">Student | Coder</p>\\n          </div>\\n\\n          <button class=\"info_more-btn\" data-sidebar-btn>\\n            <span>Show Contacts</span>\\n\\n            <ion-icon name=\"chevron-down\"></ion-icon>\\n          </button>\\n        </div>\\n\\n        <div class=\"sidebar-info_more\">\\n          <div class=\"separator\"></div>\\n\\n          <ul class=\"contacts-list\">\\n            <li class=\"contact-item\">\\n              <div class=\"icon-box\">\\n                <ion-icon name=\"mail-outline\"></ion-icon>\\n              </div>\\n\\n              <div class=\"contact-info\">\\n                <p class=\"contact-title\">Email</p>\\n\\n                <a\\n                  href=\"mailto:vanrajpardeshi8169@gmail.com\"\\n                  class=\"contact-link\"\\n                  >vanraj8169@gmail.com</a\\n                >\\n              </div>\\n            </li>\\n\\n            <li class=\"contact-item\">\\n              <div class=\"icon-box\">\\n                <ion-icon name=\"phone-portrait-outline\"></ion-icon>\\n              </div>\\n\\n              <div class=\"contact-info\">\\n                <p class=\"contact-title\">Phone</p>\\n\\n                <a href=\"tel:+918169405756\" class=\"contact-link\"\\n                  >+91 8169405756</a\\n                >\\n              </div>\\n            </li>\\n\\n            <li class=\"contact-item\">\\n              <div class=\"icon-box\">\\n                <ion-icon name=\"calendar-outline\"></ion-icon>\\n              </div>\\n\\n              <div class=\"contact-info\">\\n                <p class=\"contact-title\">Birthday</p>\\n\\n                <time datetime=\"1982-06-23\">Mar 15, 2003</time>\\n              </div>\\n            </li>\\n\\n            <li class=\"contact-item\">\\n              <div class=\"icon-box\">\\n                <ion-icon name=\"location-outline\"></ion-icon>\\n              </div>\\n\\n              <div class=\"contact-info\">\\n                <p class=\"contact-title\">Location</p>\\n\\n                <address>Mumbai, INDIA</address>\\n              </div>\\n            </li>\\n          </ul>\\n\\n          <div class=\"separator\"></div>\\n\\n          <ul class=\"social-list\">\\n            <li class=\"social-item\">\\n              <a href=\"https://github.com/Vanraj8169\" class=\"social-link\">\\n                <ion-icon name=\"logo-github\"></ion-icon>\\n              </a>\\n            </li>\\n\\n            <li class=\"social-item\">\\n              <a href=\"https://twitter.com/Vanrajzzzzz\" class=\"social-link\">\\n                <ion-icon name=\"logo-twitter\"></ion-icon>\\n              </a>\\n            </li>\\n\\n            <li class=\"social-item\">\\n              <a\\n                href=\"https://www.linkedin.com/in/vanraj-pardeshi-82207820b/\"\\n                class=\"social-link\"\\n              >\\n                <ion-icon name=\"logo-linkedin\"></ion-icon>\\n              </a>\\n            </li>\\n            <li class=\"social-item\">\\n              <a\\n                href=\"https://www.linkedin.com/in/vanraj-pardeshi-82207820b/\"\\n                class=\"social-link\"\\n              >\\n                <ion-icon name=\"logo-leetcode\"></ion-icon>\\n              </a>\\n            </li>\\n          </ul>\\n        </div>\\n      </aside>\\n\\n      <!--\\n      - #main-content\\n    -->\\n\\n      <div class=\"main-content\">\\n        <!--\\n        - #NAVBAR\\n      -->\\n\\n        <nav class=\"navbar\">\\n          <ul class=\"navbar-list\">\\n            <li class=\"navbar-item\">\\n              <button class=\"navbar-link active\" data-nav-link>About</button>\\n            </li>\\n\\n            <li class=\"navbar-item\">\\n              <button class=\"navbar-link\" data-nav-link>Resume</button>\\n            </li>\\n\\n            <li class=\"navbar-item\">\\n              <button class=\"navbar-link\" data-nav-link>Projects</button>\\n            </li>\\n\\n            <li class=\"navbar-item\">\\n              <button class=\"navbar-link\" data-nav-link>Contact</button>\\n            </li>\\n          </ul>\\n        </nav>\\n\\n        <!--\\n        - #ABOUT\\n      -->\\n\\n        <article class=\"about active\" data-page=\"about\">\\n          <header>\\n            <h2 class=\"h2 article-title\">About me</h2>\\n          </header>\\n\\n          <section class=\"about-text\">\\n            <p>\\n              Hi there! My name is Vanraj Pardeshi and I am currently pursuing a\\n              Bachelor\\'s degree in Engineering at the Xavier Institute of\\n              Engineering.\\n            </p>\\n\\n            <p>\\n              I have a strong background in web development, with experience in\\n              HTML, CSS, and JavaScript. I am also proficient in other\\n              programming languages such as Java and Python.\\n            </p>\\n            <p>\\n              I am actively working on projects that involve web development and\\n              data structuring. I am passionate about using technology to solve\\n              problems and create innovative solutions.\\n            </p>\\n          </section>\\n\\n          <!--\\n          - service\\n        -->\\n\\n          <section class=\"service\">\\n            <h3 class=\"h3 service-title\">What i\\'m doing</h3>\\n\\n            <ul class=\"service-list\">\\n              <li class=\"service-item\">\\n                <div class=\"service-icon-box\">\\n                  <img\\n                    src=\"./assets/images/icon-dev.svg\"\\n                    alt=\"Web development icon\"\\n                    width=\"40\"\\n                  />\\n                </div>\\n\\n                <div class=\"service-content-box\">\\n                  <h4 class=\"h4 service-item-title\">Web development</h4>\\n\\n                  <p class=\"service-item-text\">\\n                    Creating visually captivating websites is my passion.\\n                  </p>\\n                </div>\\n              </li>\\n\\n              <li class=\"service-item\">\\n                <div class=\"service-icon-box\">\\n                  <img\\n                    src=\"./assets/images/icon-photo.svg\"\\n                    alt=\"camera icon\"\\n                    width=\"40\"\\n                  />\\n                </div>\\n\\n                <div class=\"service-content-box\">\\n                  <h4 class=\"h4 service-item-title\">Photography</h4>\\n\\n                  <p class=\"service-item-text\">\\n                    Passionate about capturing life\\'s moments through\\n                    photography.\\n                  </p>\\n                </div>\\n              </li>\\n\\n              <li class=\"service-item\">\\n                <div class=\"service-icon-box\">\\n                  <img\\n                    src=\"./assets/images/icon-app.svg\"\\n                    alt=\"mobile app icon\"\\n                    width=\"40\"\\n                  />\\n                </div>\\n\\n                <div class=\"service-content-box\">\\n                  <h4 class=\"h4 service-item-title\">App Development</h4>\\n\\n                  <p class=\"service-item-text\">\\n                    Eagerly developing skills in Android app creation.\\n                  </p>\\n                </div>\\n              </li>\\n\\n              <li class=\"service-item\">\\n                <div class=\"service-icon-box\">\\n                  <img\\n                    src=\"./assets/images/icon-dev.svg\"\\n                    alt=\"Web development icon\"\\n                    width=\"40\"\\n                  />\\n                </div>\\n\\n                <div class=\"service-content-box\">\\n                  <h4 class=\"h4 service-item-title\">Problem Solving</h4>\\n\\n                  <p class=\"service-item-text\">\\n                    Passionate about solving problems competitively.\\n                  </p>\\n                </div>\\n              </li>\\n            </ul>\\n          </section>\\n        </article>\\n\\n        <!--\\n        - #RESUME\\n      -->\\n\\n        <article class=\"resume\" data-page=\"resume\">\\n          <header>\\n            <h2 class=\"h2 article-title\">Resume</h2>\\n          </header>\\n\\n          <section class=\"timeline\">\\n            <div class=\"title-wrapper\">\\n              <div class=\"icon-box\">\\n                <ion-icon name=\"book-outline\"></ion-icon>\\n              </div>\\n\\n              <h3 class=\"h3\">Education</h3>\\n            </div>\\n\\n            <ol class=\"timeline-list\">\\n              <li class=\"timeline-item\">\\n                <h4 class=\"h4 timeline-item-title\">\\n                  Xavier Institute of Engineering\\n                </h4>\\n\\n                <span>2020 — 2024</span>\\n\\n                <p class=\"timeline-text\">\\n                  Bachelor Of Engineering (Information Technology)\\n                </p>\\n              </li>\\n\\n              <li class=\"timeline-item\">\\n                <h4 class=\"h4 timeline-item-title\">Wilson College</h4>\\n\\n                <span>2018 — 2020</span>\\n\\n                <p class=\"timeline-text\">Physics, Chemistry, Maths</p>\\n              </li>\\n\\n              <li class=\"timeline-item\">\\n                <h4 class=\"h4 timeline-item-title\">B.K.M High School</h4>\\n\\n                <span>2008 — 2018</span>\\n\\n                <p class=\"timeline-text\"></p>\\n              </li>\\n            </ol>\\n          </section>\\n\\n          <section class=\"timeline\">\\n            <div class=\"title-wrapper\">\\n              <div class=\"icon-box\">\\n                <ion-icon name=\"book-outline\"></ion-icon>\\n              </div>\\n\\n              <h3 class=\"h3\">Experience</h3>\\n            </div>\\n\\n            <ol class=\"timeline-list\">\\n              <li class=\"timeline-item\">\\n                <h4 class=\"h4 timeline-item-title\">Web Developer</h4>\\n                <span>Arohi Operations Pvt Ltd</span>\\n                <span>July 23 - Aug 23</span>\\n\\n                <p class=\"timeline-text\">\\n                  Developed and maintained web applications using ReactJs and\\n                  optimized user interfaces with Tailwind CSS. Proficiently\\n                  troubleshooted and debugged web application issues using\\n                  GTmetrix, ensuring smooth functionality and an enhanced user\\n                  experience. Collaborated effectively with cross-functional\\n                  teams to deliver projects on schedule, demonstrating strong\\n                  teamwork and project management skills.\\n                </p>\\n              </li>\\n\\n              <li class=\"timeline-item\">\\n                <h4 class=\"h4 timeline-item-title\">\\n                  SWOC Season 3 Contributor\\n                </h4>\\n\\n                <span>Social Winter of Code</span>\\n                <span>Jan 23 - Mar 23</span>\\n\\n                <p class=\"timeline-text\">\\n                  Contributed to open-source projects in Social Winter of Code,\\n                  adding well-known algorithms and developing a web application,\\n                  showcasing versatility in both data structures and web\\n                  development. Actively participated in Social Winter of Code,\\n                  making successful contributions to algorithmic and web\\n                  development projects, demonstrating strong coding skills and a\\n                  passion for open-source collaboration.\\n                </p>\\n              </li>\\n            </ol>\\n          </section>\\n          <section class=\"skill\">\\n            <h3 class=\"h3 skills-title\">My skills</h3>\\n\\n            <ul class=\"skills-list content-card\">\\n              <li class=\"skills-item\">\\n                <div class=\"title-wrapper\">\\n                  <h5 class=\"h5\">HTML / CSS</h5>\\n                  <data value=\"90\">90%</data>\\n                </div>\\n\\n                <div class=\"skill-progress-bg\">\\n                  <div class=\"skill-progress-fill\" style=\"width: 90%\"></div>\\n                </div>\\n              </li>\\n\\n              <li class=\"skills-item\">\\n                <div class=\"title-wrapper\">\\n                  <h5 class=\"h5\">React</h5>\\n                  <data value=\"90\">90%</data>\\n                </div>\\n\\n                <div class=\"skill-progress-bg\">\\n                  <div class=\"skill-progress-fill\" style=\"width: 90%\"></div>\\n                </div>\\n              </li>\\n\\n              <!-- <li class=\"skills-item\">\\n\\n              <div class=\"title-wrapper\">\\n                <h5 class=\"h5\">Python</h5>\\n                <data value=\"70\">70%</data>\\n              </div>\\n\\n              <div class=\"skill-progress-bg\">\\n                <div class=\"skill-progress-fill\" style=\"width: 70%;\"></div>\\n              </div>\\n\\n            </li> -->\\n\\n              <li class=\"skills-item\">\\n                <div class=\"title-wrapper\">\\n                  <h5 class=\"h5\">Flutter</h5>\\n                  <data value=\"70\">70%</data>\\n                </div>\\n\\n                <div class=\"skill-progress-bg\">\\n                  <div class=\"skill-progress-fill\" style=\"width: 70%\"></div>\\n                </div>\\n              </li>\\n              <li class=\"skills-item\">\\n                <div class=\"title-wrapper\">\\n                  <h5 class=\"h5\">Java</h5>\\n                  <data value=\"90\">90%</data>\\n                </div>\\n\\n                <div class=\"skill-progress-bg\">\\n                  <div class=\"skill-progress-fill\" style=\"width: 90%\"></div>\\n                </div>\\n              </li>\\n              <li class=\"skills-item\">\\n                <div class=\"title-wrapper\">\\n                  <h5 class=\"h5\">Javascript</h5>\\n                  <data value=\"90\">90%</data>\\n                </div>\\n\\n                <div class=\"skill-progress-bg\">\\n                  <div class=\"skill-progress-fill\" style=\"width: 90%\"></div>\\n                </div>\\n              </li>\\n            </ul>\\n          </section>\\n        </article>\\n\\n        <!--\\n        - #PROJECTS\\n      -->\\n\\n        <article class=\"portfolio\" data-page=\"projects\">\\n          <header>\\n            <h2 class=\"h2 article-title\">Projects</h2>\\n          </header>\\n\\n          <section class=\"projects\">\\n            <ul class=\"filter-list\">\\n              <li class=\"filter-item\">\\n                <button class=\"active\" data-filter-btn>All</button>\\n              </li>\\n              <li class=\"filter-item\">\\n                <button data-filter-btn>App Development</button>\\n              </li>\\n              <li class=\"filter-item\">\\n                <button data-filter-btn>Web Development</button>\\n              </li>\\n            </ul>\\n\\n            <div class=\"filter-select-box\">\\n              <button class=\"filter-select\" data-select>\\n                <div class=\"select-value\" data-selecct-value>\\n                  Select category\\n                </div>\\n\\n                <div class=\"select-icon\">\\n                  <ion-icon name=\"chevron-down\"></ion-icon>\\n                </div>\\n              </button>\\n\\n              <ul class=\"select-list\">\\n                <li class=\"select-item\">\\n                  <button data-select-item>All</button>\\n                </li>\\n\\n                <li class=\"select-item\">\\n                  <button data-select-item>Web Development</button>\\n                </li>\\n\\n                <li class=\"select-item\">\\n                  <button data-select-item>App Development</button>\\n                </li>\\n              </ul>\\n            </div>\\n\\n            <ul class=\"project-list\">\\n              <li\\n                class=\"project-item active\"\\n                data-filter-item\\n                data-category=\"web development\"\\n              >\\n                <a href=\"https://xpresscart.vercel.app/\" target=\"_blank\">\\n                  <figure class=\"project-img\">\\n                    <div class=\"project-item-icon-box\">\\n                      <ion-icon name=\"eye-outline\"></ion-icon>\\n                    </div>\\n\\n                    <img\\n                      src=\"./assets/images/xpresscart.webp\"\\n                      alt=\"brawlhalla\"\\n                      loading=\"lazy\"\\n                    />\\n                  </figure>\\n\\n                  <h3 class=\"project-title\">XpressCart</h3>\\n\\n                  <p class=\"project-category\">Web Developemt</p>\\n                </a>\\n              </li>\\n              <li\\n                class=\"project-item active\"\\n                data-filter-item\\n                data-category=\"web development\"\\n              >\\n                <a href=\"https://xcrypto-seven.vercel.app/\" target=\"_blank\">\\n                  <figure class=\"project-img\">\\n                    <div class=\"project-item-icon-box\">\\n                      <ion-icon name=\"eye-outline\"></ion-icon>\\n                    </div>\\n\\n                    <img\\n                      src=\"./assets/images/xcrypto.webp\"\\n                      alt=\"finance\"\\n                      loading=\"lazy\"\\n                    />\\n                  </figure>\\n\\n                  <h3 class=\"project-title\">XCrypto</h3>\\n\\n                  <p class=\"project-category\">Web development</p>\\n                </a>\\n              </li>\\n\\n              <li\\n                class=\"project-item active\"\\n                data-filter-item\\n                data-category=\"web development\"\\n              >\\n                <a href=\"https://videohub-topaz.vercel.app/\" target=\"_blank\">\\n                  <figure class=\"project-img\">\\n                    <div class=\"project-item-icon-box\">\\n                      <ion-icon name=\"eye-outline\"></ion-icon>\\n                    </div>\\n\\n                    <img\\n                      src=\"./assets/images/videohub.webp\"\\n                      alt=\"orizon\"\\n                      loading=\"lazy\"\\n                    />\\n                  </figure>\\n\\n                  <h3 class=\"project-title\">Video Hub</h3>\\n\\n                  <p class=\"project-category\">Web development</p>\\n                </a>\\n              </li>\\n              <li\\n                class=\"project-item active\"\\n                data-filter-item\\n                data-category=\"app development\"\\n              >\\n                <a href=\"https://youtu.be/6DBkeNUYkyk\" target=\"_blank\">\\n                  <figure class=\"project-img\">\\n                    <div class=\"project-item-icon-box\">\\n                      <ion-icon name=\"eye-outline\"></ion-icon>\\n                    </div>\\n\\n                    <img\\n                      src=\"./assets/images/gadgetHive.webp\"\\n                      alt=\"brawlhalla\"\\n                      loading=\"lazy\"\\n                    />\\n                  </figure>\\n\\n                  <h3 class=\"project-title\">GadgetHive : Catalog App</h3>\\n\\n                  <p class=\"project-category\">App Development</p>\\n                </a>\\n              </li>\\n              <li\\n                class=\"project-item active\"\\n                data-filter-item\\n                data-category=\"web development\"\\n              >\\n                <a\\n                  href=\"https://snake-game-eta-eight.vercel.app/\"\\n                  target=\"_blank\"\\n                >\\n                  <figure class=\"project-img\">\\n                    <div class=\"project-item-icon-box\">\\n                      <ion-icon name=\"eye-outline\"></ion-icon>\\n                    </div>\\n\\n                    <img\\n                      src=\"./assets/images/snakegame.webp\"\\n                      alt=\"fundo\"\\n                      loading=\"lazy\"\\n                    />\\n                  </figure>\\n\\n                  <h3 class=\"project-title\">Snake Game</h3>\\n\\n                  <p class=\"project-category\">Web Developemt</p>\\n                </a>\\n              </li>\\n\\n              <li\\n                class=\"project-item active\"\\n                data-filter-item\\n                data-category=\"web development\"\\n              >\\n                <a\\n                  href=\"https://weather-app-nine-dusky.vercel.app/\"\\n                  target=\"_blank\"\\n                >\\n                  <figure class=\"project-img\">\\n                    <div class=\"project-item-icon-box\">\\n                      <ion-icon name=\"eye-outline\"></ion-icon>\\n                    </div>\\n\\n                    <img\\n                      src=\"./assets/images/weatherapp.webp\"\\n                      alt=\"brawlhalla\"\\n                      loading=\"lazy\"\\n                    />\\n                  </figure>\\n\\n                  <h3 class=\"project-title\">Weather App</h3>\\n\\n                  <p class=\"project-category\">Web Developemt</p>\\n                </a>\\n              </li>\\n\\n              <li\\n                class=\"project-item active\"\\n                data-filter-item\\n                data-category=\"web development\"\\n              >\\n                <a\\n                  href=\"https://analog-digital-clock.vercel.app/\"\\n                  target=\"_blank\"\\n                >\\n                  <figure class=\"project-img\">\\n                    <div class=\"project-item-icon-box\">\\n                      <ion-icon name=\"eye-outline\"></ion-icon>\\n                    </div>\\n\\n                    <img\\n                      src=\"./assets/images/analogclock.webp\"\\n                      alt=\"dsm.\"\\n                      loading=\"lazy\"\\n                    />\\n                  </figure>\\n\\n                  <h3 class=\"project-title\">Analog Digital Clock</h3>\\n\\n                  <p class=\"project-category\">Web Development</p>\\n                </a>\\n              </li>\\n\\n              <li\\n                class=\"project-item active\"\\n                data-filter-item\\n                data-category=\"web development\"\\n              >\\n                <a href=\"https://sumzz.vercel.app/\" target=\"_blank\">\\n                  <figure class=\"project-img\">\\n                    <div class=\"project-item-icon-box\">\\n                      <ion-icon name=\"eye-outline\"></ion-icon>\\n                    </div>\\n\\n                    <img\\n                      src=\"./assets/images/sumzz.webp\"\\n                      alt=\"dsm.\"\\n                      loading=\"lazy\"\\n                    />\\n                  </figure>\\n\\n                  <h3 class=\"project-title\">Sumzz AI Article Summarizer</h3>\\n\\n                  <p class=\"project-category\">Web Development</p>\\n                </a>\\n              </li>\\n              <li\\n                class=\"project-item active\"\\n                data-filter-item\\n                data-category=\"web development\"\\n              >\\n                <a\\n                  href=\"https://drum-kit-eight-plum.vercel.app/\"\\n                  target=\"_blank\"\\n                >\\n                  <figure class=\"project-img\">\\n                    <div class=\"project-item-icon-box\">\\n                      <ion-icon name=\"eye-outline\"></ion-icon>\\n                    </div>\\n\\n                    <img\\n                      src=\"./assets/images/drumkit.webp\"\\n                      alt=\"metaspark\"\\n                      loading=\"lazy\"\\n                    />\\n                  </figure>\\n\\n                  <h3 class=\"project-title\">Drum Kit</h3>\\n\\n                  <p class=\"project-category\">Web Development</p>\\n                </a>\\n              </li>\\n\\n              <li\\n                class=\"project-item active\"\\n                data-filter-item\\n                data-category=\"web development\"\\n              >\\n                <a href=\"https://dice-roll-green.vercel.app/\" target=\"_blank\">\\n                  <figure class=\"project-img\">\\n                    <div class=\"project-item-icon-box\">\\n                      <ion-icon name=\"eye-outline\"></ion-icon>\\n                    </div>\\n\\n                    <img\\n                      src=\"./assets/images/diceroll.webp\"\\n                      alt=\"summary\"\\n                      loading=\"lazy\"\\n                    />\\n                  </figure>\\n\\n                  <h3 class=\"project-title\">Dice Roll</h3>\\n\\n                  <p class=\"project-category\">Web development</p>\\n                </a>\\n              </li>\\n\\n              <li\\n                class=\"project-item active\"\\n                data-filter-item\\n                data-category=\"web development\"\\n              >\\n                <a href=\"https://vanraj8169.github.io/tindog/\" target=\"_blank\">\\n                  <figure class=\"project-img\">\\n                    <div class=\"project-item-icon-box\">\\n                      <ion-icon name=\"eye-outline\"></ion-icon>\\n                    </div>\\n\\n                    <img\\n                      src=\"./assets/images/tindog.webp\"\\n                      alt=\"task manager\"\\n                      loading=\"lazy\"\\n                    />\\n                  </figure>\\n\\n                  <h3 class=\"project-title\">TinDog</h3>\\n\\n                  <p class=\"project-category\">Web Development</p>\\n                </a>\\n              </li>\\n\\n              <li\\n                class=\"project-item active\"\\n                data-filter-item\\n                data-category=\"web development\"\\n              >\\n                <a\\n                  href=\"https://usability-hub-clone-henna.vercel.app/\"\\n                  target=\"_blank\"\\n                >\\n                  <figure class=\"project-img\">\\n                    <div class=\"project-item-icon-box\">\\n                      <ion-icon name=\"eye-outline\"></ion-icon>\\n                    </div>\\n\\n                    <img\\n                      src=\"./assets/images/usabilityhubclone.webp\"\\n                      alt=\"arrival\"\\n                      loading=\"lazy\"\\n                    />\\n                  </figure>\\n\\n                  <h3 class=\"project-title\">Usability Hub Clone</h3>\\n\\n                  <p class=\"project-category\">Web development</p>\\n                </a>\\n              </li>\\n            </ul>\\n          </section>\\n        </article>\\n\\n        <!--\\n        - #CONTACT\\n      -->\\n\\n        <article class=\"contact\" data-page=\"contact\">\\n          <header>\\n            <h2 class=\"h2 article-title\">Contact</h2>\\n          </header>\\n\\n          <section class=\"contact-form\">\\n            <h3 class=\"h3 form-title\">Contact Form</h3>\\n\\n            <form\\n              action=\"https://formspree.io/f/mdorzerj\"\\n              method=\"post\"\\n              class=\"form\"\\n              data-form\\n            >\\n              <div class=\"input-wrapper\">\\n                <input\\n                  type=\"text\"\\n                  name=\"fullname\"\\n                  class=\"form-input\"\\n                  placeholder=\"Full name\"\\n                  required\\n                  data-form-input\\n                />\\n\\n                <input\\n                  type=\"email\"\\n                  name=\"email\"\\n                  class=\"form-input\"\\n                  placeholder=\"Email address\"\\n                  required\\n                  data-form-input\\n                />\\n              </div>\\n\\n              <textarea\\n                name=\"message\"\\n                class=\"form-input\"\\n                placeholder=\"Your Message\"\\n                required\\n                data-form-input\\n              ></textarea>\\n\\n              <button class=\"form-btn\" type=\"submit\" data-form-btn>\\n                <ion-icon name=\"paper-plane\"></ion-icon>\\n                <span>Send Message</span>\\n              </button>\\n            </form>\\n          </section>\\n        </article>\\n      </div>\\n    </main>\\n\\n    <!--\\n    - custom js link\\n  -->\\n    <script src=\"./assets/js/script.js\"></script>\\n\\n    <!--\\n    - ionicon link\\n  -->\\n    <script\\n      type=\"module\"\\n      src=\"https://unpkg.com/ionicons@5.5.2/dist/ionicons/ionicons.esm.js\"\\n    ></script>\\n    <script\\n      nomodule\\n      src=\"https://unpkg.com/ionicons@5.5.2/dist/ionicons/ionicons.js\"\\n    ></script>\\n  </body>\\n</html>\\n'"
      ]
     },
     "execution_count": 39,
     "metadata": {},
     "output_type": "execute_result"
    }
   ],
   "source": [
    "# Assignment 8: Exception Handling in Network Operations\n",
    "import requests\n",
    "def access_url(url):\n",
    "    try:\n",
    "        response = requests.get(url)\n",
    "        response.raise_for_status()\n",
    "        return response.text\n",
    "    except requests.RequestException as e:\n",
    "        print(f\"Network Error: {e}\")\n",
    "        return None\n",
    "    finally:\n",
    "        print(\"Execution Complete\")\n",
    "        \n",
    "access_url(\"https://vanrajpardeshi.netlify.app\")\n",
    "\n"
   ]
  },
  {
   "cell_type": "code",
   "execution_count": 43,
   "metadata": {},
   "outputs": [
    {
     "name": "stdout",
     "output_type": "stream",
     "text": [
      "Expecting value: line 1 column 1 (char 0)\n",
      "Execution Complete\n"
     ]
    }
   ],
   "source": [
    "# Assignment 9: Exception Handling in JSON Parsing\n",
    "import json\n",
    "def read_json(file_path):\n",
    "    try:\n",
    "        response = json.loads(file_path)\n",
    "        return response\n",
    "    except json.JSONDecodeError as err:\n",
    "        print(err)\n",
    "        response = None \n",
    "    finally:\n",
    "        print('Execution Complete')\n",
    "\n",
    "read_json('sample.json')\n",
    "        "
   ]
  },
  {
   "cell_type": "code",
   "execution_count": 47,
   "metadata": {},
   "outputs": [
    {
     "name": "stdout",
     "output_type": "stream",
     "text": [
      "Negative Number found: -1\n",
      "Execution Complete\n"
     ]
    }
   ],
   "source": [
    "# Assignment 10: Custom Exception Handling\n",
    "class NegativeNumberError(Exception):\n",
    "    pass\n",
    "\n",
    "def custom_exception(lst):\n",
    "    try:\n",
    "        for num in lst:\n",
    "            if num < 0:\n",
    "                raise NegativeNumberError(f\"Negative Number found: {num}\")\n",
    "    except NegativeNumberError as err:\n",
    "        print(err)\n",
    "    finally:\n",
    "        print('Execution Complete')\n",
    "\n",
    "custom_exception([1,2,5,2,5,-1,23,-23])\n",
    "            "
   ]
  },
  {
   "cell_type": "code",
   "execution_count": 51,
   "metadata": {},
   "outputs": [
    {
     "name": "stdout",
     "output_type": "stream",
     "text": [
      "An error occured in Risky function\n",
      "jsldf\n",
      "Execution Complete\n"
     ]
    }
   ],
   "source": [
    "# Assignment 11: Exception Handling in Function calls\n",
    "def risky_function():\n",
    "    raise ValueError('An error occured in Risky function')\n",
    "\n",
    "def func_calling(func):\n",
    "    try:\n",
    "        func()\n",
    "    except ValueError as err:\n",
    "        print(err)\n",
    "    finally:\n",
    "        print('Execution Complete')\n",
    "        \n",
    "func_calling(risky_function)"
   ]
  },
  {
   "cell_type": "code",
   "execution_count": 54,
   "metadata": {},
   "outputs": [
    {
     "name": "stdout",
     "output_type": "stream",
     "text": [
      "Execution Completed\n"
     ]
    },
    {
     "data": {
      "text/plain": [
       "2.0"
      ]
     },
     "execution_count": 54,
     "metadata": {},
     "output_type": "execute_result"
    }
   ],
   "source": [
    "# Assignment 12: Exception Handling in Class Methods\n",
    "class Calculator:\n",
    "    def division(self,a,b):\n",
    "        try:\n",
    "            res = a / b\n",
    "        except ZeroDivisionError as err:\n",
    "            print(err)\n",
    "        finally:\n",
    "            print('Execution Completed')\n",
    "        return res \n",
    "\n",
    "calc_obj = Calculator()\n",
    "calc_obj.division(20,10)\n",
    "            "
   ]
  },
  {
   "cell_type": "code",
   "execution_count": 55,
   "metadata": {},
   "outputs": [
    {
     "name": "stdout",
     "output_type": "stream",
     "text": [
      "Execution Completed\n"
     ]
    },
    {
     "data": {
      "text/plain": [
       "[1, 2, 3, 4, 5]"
      ]
     },
     "execution_count": 55,
     "metadata": {},
     "output_type": "execute_result"
    }
   ],
   "source": [
    "# Assignment 13: Exception Handling in Data Conversion\n",
    "def str_to_int(strs):\n",
    "    integer_lst = []\n",
    "    try:\n",
    "        for str in strs:\n",
    "            integer_lst.append(int(str))\n",
    "    except ValueError as err:\n",
    "        print(err)\n",
    "        integer_lst = None \n",
    "    finally: \n",
    "        print('Execution Completed')\n",
    "    return integer_lst\n",
    "\n",
    "str_to_int(['1','2','3','4','5'])\n",
    "            "
   ]
  },
  {
   "cell_type": "code",
   "execution_count": 57,
   "metadata": {},
   "outputs": [
    {
     "name": "stdout",
     "output_type": "stream",
     "text": [
      "Execution Completed\n"
     ]
    },
    {
     "data": {
      "text/plain": [
       "[1, 2, 3, 4, 5]"
      ]
     },
     "execution_count": 57,
     "metadata": {},
     "output_type": "execute_result"
    }
   ],
   "source": [
    "# Assignment 14: Exception Handling in Data Conversion\n",
    "def handle_exception_lst_comprehension(strs):\n",
    "    try:\n",
    "        integer_lst = [int(str) for str in strs]\n",
    "    except ValueError as err:\n",
    "        print(err)\n",
    "        integer_lst = None \n",
    "    finally: \n",
    "        print('Execution Completed')\n",
    "    return integer_lst\n",
    "\n",
    "handle_exception_lst_comprehension(['1','2','3','4','5']) "
   ]
  },
  {
   "cell_type": "code",
   "execution_count": 59,
   "metadata": {},
   "outputs": [
    {
     "name": "stdout",
     "output_type": "stream",
     "text": [
      "Execution Completed\n"
     ]
    }
   ],
   "source": [
    "# Assignment 15: Exception Handling in File Writing\n",
    "def write_to_file(file_path,txt):\n",
    "    try:\n",
    "        with open(file_path,'w') as file:\n",
    "            file.write(txt)\n",
    "    except IOError as err:\n",
    "        print(err)\n",
    "    finally:\n",
    "        print('Execution Completed')\n",
    "    \n",
    "write_to_file('demo.ltxt','Hello world')"
   ]
  },
  {
   "cell_type": "code",
   "execution_count": null,
   "metadata": {},
   "outputs": [],
   "source": []
  }
 ],
 "metadata": {
  "kernelspec": {
   "display_name": "Python 3",
   "language": "python",
   "name": "python3"
  },
  "language_info": {
   "codemirror_mode": {
    "name": "ipython",
    "version": 3
   },
   "file_extension": ".py",
   "mimetype": "text/x-python",
   "name": "python",
   "nbconvert_exporter": "python",
   "pygments_lexer": "ipython3",
   "version": "3.11.2"
  }
 },
 "nbformat": 4,
 "nbformat_minor": 2
}
