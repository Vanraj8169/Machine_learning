{
 "cells": [
  {
   "cell_type": "code",
   "execution_count": 1,
   "metadata": {},
   "outputs": [
    {
     "name": "stdout",
     "output_type": "stream",
     "text": [
      "Enter denominator greater than zero\n"
     ]
    }
   ],
   "source": [
    "try: \n",
    "    num = int(input(\"Enter a number\"))\n",
    "    result = 10/num\n",
    "except ValueError:\n",
    "    print('This is not a valid number')\n",
    "except ZeroDivisionError:\n",
    "    print('Enter denominator greater than zero')\n",
    "except Exception as ex:\n",
    "    print(ex)"
   ]
  },
  {
   "cell_type": "code",
   "execution_count": 3,
   "metadata": {},
   "outputs": [
    {
     "name": "stdout",
     "output_type": "stream",
     "text": [
      "The result is 1.0\n"
     ]
    }
   ],
   "source": [
    "# try,except and else\n",
    "try: \n",
    "    num = int(input(\"Enter a number\"))\n",
    "    result = 10/num\n",
    "except ValueError:\n",
    "    print('This is not a valid number')\n",
    "except ZeroDivisionError:\n",
    "    print('Enter denominator greater than zero')\n",
    "except Exception as ex:\n",
    "    print(ex)\n",
    "else:\n",
    "    print(f'The result is {result}')"
   ]
  },
  {
   "cell_type": "code",
   "execution_count": 5,
   "metadata": {},
   "outputs": [
    {
     "name": "stdout",
     "output_type": "stream",
     "text": [
      "The result is 0.8333333333333334\n",
      "Execution completed\n"
     ]
    }
   ],
   "source": [
    "# try,except,else and finally\n",
    "try: \n",
    "    num = int(input(\"Enter a number\"))\n",
    "    result = 10/num\n",
    "except ValueError:\n",
    "    print('This is not a valid number')\n",
    "except ZeroDivisionError:\n",
    "    print('Enter denominator greater than zero')\n",
    "except Exception as ex:\n",
    "    print(ex)\n",
    "else:\n",
    "    print(f'The result is {result}')\n",
    "finally:\n",
    "    print('Execution completed')"
   ]
  },
  {
   "cell_type": "code",
   "execution_count": 3,
   "metadata": {},
   "outputs": [
    {
     "name": "stdout",
     "output_type": "stream",
     "text": [
      "name 'b' is not defined\n",
      "file closed\n"
     ]
    }
   ],
   "source": [
    "try:\n",
    "    file=open('example1.txt','r')\n",
    "    content = file.read()\n",
    "    a=b\n",
    "    print(content)\n",
    "except FileNotFoundError:\n",
    "    print(\"The file does not exists\")\n",
    "except Exception as ex:\n",
    "    print(ex)\n",
    "finally:\n",
    "    if 'file' in locals() or not file.closed():\n",
    "        file.close()\n",
    "        print('file closed')"
   ]
  },
  {
   "cell_type": "code",
   "execution_count": null,
   "metadata": {},
   "outputs": [],
   "source": []
  }
 ],
 "metadata": {
  "kernelspec": {
   "display_name": "Python 3",
   "language": "python",
   "name": "python3"
  },
  "language_info": {
   "codemirror_mode": {
    "name": "ipython",
    "version": 3
   },
   "file_extension": ".py",
   "mimetype": "text/x-python",
   "name": "python",
   "nbconvert_exporter": "python",
   "pygments_lexer": "ipython3",
   "version": "3.11.2"
  }
 },
 "nbformat": 4,
 "nbformat_minor": 2
}
