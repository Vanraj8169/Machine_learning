{
 "cells": [
  {
   "cell_type": "code",
   "execution_count": 1,
   "metadata": {},
   "outputs": [
    {
     "name": "stdout",
     "output_type": "stream",
     "text": [
      "Hello\n",
      "How are you!!!\n"
     ]
    }
   ],
   "source": [
    "# Assignment 1: Reading a file\n",
    "with open('example.txt','r') as file:\n",
    "    content = file.read()\n",
    "    print(content)"
   ]
  },
  {
   "cell_type": "code",
   "execution_count": 2,
   "metadata": {},
   "outputs": [
    {
     "name": "stdout",
     "output_type": "stream",
     "text": [
      "Text is successfully created!\n"
     ]
    }
   ],
   "source": [
    "# Assignment 2: Writing to a file\n",
    "def write_to_file(text):\n",
    "    with open('output.txt','w') as file:\n",
    "        for t in text:\n",
    "            file.write(f\"{t}\\n\")\n",
    "    print('Text is successfully created!')\n",
    "string_lst = ['Ich','bin','Vanraj','Ich','lerne','Deutsch']\n",
    "write_to_file(string_lst)"
   ]
  },
  {
   "cell_type": "code",
   "execution_count": 4,
   "metadata": {},
   "outputs": [
    {
     "name": "stdout",
     "output_type": "stream",
     "text": [
      "File cloned successfully.\n"
     ]
    }
   ],
   "source": [
    "# Assignment 3: Copying a file\n",
    "def clone_file(from_path,to_path):\n",
    "    with open(from_path,'r') as file:\n",
    "        content = file.read()\n",
    "        with open(to_path,'w') as file2:\n",
    "            file2.write(content)\n",
    "        print('File cloned successfully.')\n",
    "        \n",
    "from_path='output.txt'\n",
    "to_path=\"destination.txt\"\n",
    "clone_file(from_path,to_path)"
   ]
  },
  {
   "cell_type": "code",
   "execution_count": 5,
   "metadata": {},
   "outputs": [
    {
     "name": "stdout",
     "output_type": "stream",
     "text": [
      "Text appended to file\n"
     ]
    }
   ],
   "source": [
    "# Assignment 4: Appending to a file\n",
    "def append_to_file(txt):\n",
    "    with open('log.txt','a') as file:\n",
    "        file.write(f\"{txt}\\n\")\n",
    "    print('Text appended to file')\n",
    "\n",
    "append_to_file(\"Hello\")"
   ]
  },
  {
   "cell_type": "code",
   "execution_count": 6,
   "metadata": {},
   "outputs": [
    {
     "name": "stdout",
     "output_type": "stream",
     "text": [
      "No. of words: 6\n"
     ]
    }
   ],
   "source": [
    "# Assignment 5: Counting words in a file\n",
    "def word_counts(file_path):\n",
    "    with open(file_path,'r') as file:\n",
    "        lines = file.readlines()\n",
    "        words = sum(len(line.split()) for line in lines)\n",
    "    return words\n",
    "\n",
    "file_path='output.txt'\n",
    "print(f\"No. of words: {word_counts(file_path)}\")"
   ]
  },
  {
   "cell_type": "code",
   "execution_count": 11,
   "metadata": {},
   "outputs": [
    {
     "name": "stdout",
     "output_type": "stream",
     "text": [
      "Text is successfully replaced\n"
     ]
    }
   ],
   "source": [
    "# Assignment 6: Finding and Replacing Text\n",
    "def replace_txt_from_file(txt_to_replace,replaced_txt,file_path):\n",
    "    with open(file_path,'r+') as file:\n",
    "        content = file.read()\n",
    "        content = content.replace(txt_to_replace,replaced_txt)\n",
    "        file.seek(0)\n",
    "        file.write(content)\n",
    "    print('Text is successfully replaced')\n",
    "    \n",
    "replace_txt_from_file(\"Ich\",\"I\",\"output.txt\")"
   ]
  },
  {
   "cell_type": "code",
   "execution_count": 14,
   "metadata": {},
   "outputs": [
    {
     "name": "stdout",
     "output_type": "stream",
     "text": [
      "I\n",
      "nib\n",
      "jarnaV\n",
      "I\n",
      "enrel\n",
      "hcstueD\n",
      "hc\n"
     ]
    }
   ],
   "source": [
    "# Assignment 7: Reading a file in Reverse\n",
    "def read_in_reverse(file_path):\n",
    "    with open(file_path,'r') as file:\n",
    "        lines = file.readlines()\n",
    "        for line in lines:\n",
    "            print(line[::-1].strip())\n",
    "\n",
    "read_in_reverse('output.txt')"
   ]
  },
  {
   "cell_type": "code",
   "execution_count": 16,
   "metadata": {},
   "outputs": [
    {
     "name": "stdout",
     "output_type": "stream",
     "text": [
      "Lines: 6,Words:6,Characters: 33\n"
     ]
    }
   ],
   "source": [
    "# Assignment 8: Counting lines, words and characters\n",
    "def count_lines_words_chars(file_path):\n",
    "    with open(file_path,'r') as file:\n",
    "        lines = file.readlines()\n",
    "        line_count = len(lines)\n",
    "        words = sum(len(line.split()) for line in lines)\n",
    "        chars = sum(len(line) for line in lines)\n",
    "    return line_count,words,chars\n",
    "\n",
    "lines,words,chars = count_lines_words_chars(\"destination.txt\")\n",
    "print(f\"Lines: {lines},Words:{words},Characters: {chars}\")\n",
    "        "
   ]
  },
  {
   "cell_type": "code",
   "execution_count": 17,
   "metadata": {},
   "outputs": [
    {
     "name": "stdout",
     "output_type": "stream",
     "text": [
      "All files merged successfully\n"
     ]
    }
   ],
   "source": [
    "# Assignment 9: Merging Multiple files\n",
    "def merging_files(files):\n",
    "    with open('merged.txt','w') as merged_file:\n",
    "        for fname in files:\n",
    "            with open(fname,'r') as infile:\n",
    "                content = infile.read()\n",
    "                merged_file.write(content)\n",
    "    print('All files merged successfully')\n",
    "    \n",
    "files = ['destination.txt','output.txt','example.txt','log.txt']\n",
    "merging_files(files)\n",
    "        "
   ]
  },
  {
   "cell_type": "code",
   "execution_count": 21,
   "metadata": {},
   "outputs": [
    {
     "name": "stdout",
     "output_type": "stream",
     "text": [
      "Successfully splitted file\n"
     ]
    }
   ],
   "source": [
    "# Assignment 10: Splitting a large file\n",
    "def splitting_large_file(file_path):\n",
    "    with open(file_path,'r') as file:\n",
    "        lines = file.readlines()\n",
    "        for i in range(0,len(lines),100):\n",
    "            with open(f\"{file_path.replace('.','')}_part{i//100+1}.txt\",'w') as part_file:\n",
    "                part_file.writelines(lines[i:i+100])\n",
    "    print(\"Successfully splitted file\")\n",
    "    \n",
    "splitting_large_file(\"large.txt\")"
   ]
  },
  {
   "cell_type": "code",
   "execution_count": 23,
   "metadata": {},
   "outputs": [],
   "source": [
    "# Assignment 11: Creating a Log File\n",
    "import datetime\n",
    "def create_log_file(file_path):\n",
    "    with open(file_path,'a') as file:\n",
    "        file.write(f\"{datetime.datetime.now()}\")\n",
    "\n",
    "create_log_file('activity.log')"
   ]
  },
  {
   "cell_type": "code",
   "execution_count": 33,
   "metadata": {},
   "outputs": [],
   "source": [
    "# Assignment 12: Binary File Operations\n",
    "def reading_bin_file(file_path):\n",
    "     with open(file_path,'rb') as file:\n",
    "         content = file.read()\n",
    "         with open('copy_image.bin','wb') as copyfile:\n",
    "            copyfile.write(content)\n",
    "        \n",
    "    \n",
    "\n",
    "reading_bin_file('image.bin')"
   ]
  },
  {
   "cell_type": "code",
   "execution_count": 34,
   "metadata": {},
   "outputs": [
    {
     "data": {
      "text/plain": [
       "[{'hello': 'is',\n",
       "  'vanraj': 'everything',\n",
       "  'how': 'fine',\n",
       "  'are': None,\n",
       "  'you': None}]"
      ]
     },
     "execution_count": 34,
     "metadata": {},
     "output_type": "execute_result"
    }
   ],
   "source": [
    "# Assignment 13: CSV File Operations\n",
    "import csv\n",
    "def read_csv_file(file_path):\n",
    "    with open(file_path,'r') as file:\n",
    "        content = csv.DictReader(file)\n",
    "        return list(content)\n",
    "    \n",
    "read_csv_file(\"image.csv\")"
   ]
  },
  {
   "cell_type": "code",
   "execution_count": 36,
   "metadata": {},
   "outputs": [
    {
     "data": {
      "text/plain": [
       "{'array': [1, 2, 3],\n",
       " 'boolean': True,\n",
       " 'color': 'gold',\n",
       " 'null': None,\n",
       " 'number': 123,\n",
       " 'object': {'a': 'b', 'c': 'd'},\n",
       " 'string': 'Hello World'}"
      ]
     },
     "execution_count": 36,
     "metadata": {},
     "output_type": "execute_result"
    }
   ],
   "source": [
    "# Assignment 14: JSON File Operations\n",
    "import json\n",
    "def json_reader(file_path):\n",
    "    with open(file_path,'r') as file:\n",
    "        content = json.load(file)\n",
    "        return dict(content)\n",
    "        \n",
    "json_reader('image.json')"
   ]
  },
  {
   "cell_type": "code",
   "execution_count": 38,
   "metadata": {},
   "outputs": [],
   "source": [
    "# Assignment 15: File Permission Handling\n",
    "def read_protected_file(file_path):\n",
    "    try:\n",
    "        with open(file_path,'r') as file:\n",
    "            print(file.read())\n",
    "    except PermissionError as e:\n",
    "        print(e)\n",
    "    \n"
   ]
  },
  {
   "cell_type": "code",
   "execution_count": null,
   "metadata": {},
   "outputs": [],
   "source": []
  }
 ],
 "metadata": {
  "kernelspec": {
   "display_name": "Python 3",
   "language": "python",
   "name": "python3"
  },
  "language_info": {
   "codemirror_mode": {
    "name": "ipython",
    "version": 3
   },
   "file_extension": ".py",
   "mimetype": "text/x-python",
   "name": "python",
   "nbconvert_exporter": "python",
   "pygments_lexer": "ipython3",
   "version": "3.11.2"
  }
 },
 "nbformat": 4,
 "nbformat_minor": 2
}
