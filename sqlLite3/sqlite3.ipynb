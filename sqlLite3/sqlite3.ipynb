{
 "cells": [
  {
   "cell_type": "code",
   "execution_count": 1,
   "metadata": {},
   "outputs": [],
   "source": [
    "import sqlite3"
   ]
  },
  {
   "cell_type": "code",
   "execution_count": 2,
   "metadata": {},
   "outputs": [
    {
     "data": {
      "text/plain": [
       "<sqlite3.Connection at 0x20ea2788130>"
      ]
     },
     "execution_count": 2,
     "metadata": {},
     "output_type": "execute_result"
    }
   ],
   "source": [
    "# connect to an Sqlite Database\n",
    "connection = sqlite3.connect('example.db')\n",
    "connection"
   ]
  },
  {
   "cell_type": "code",
   "execution_count": 3,
   "metadata": {},
   "outputs": [],
   "source": [
    "cursor = connection.cursor()\n"
   ]
  },
  {
   "cell_type": "code",
   "execution_count": 4,
   "metadata": {},
   "outputs": [],
   "source": [
    "# Create a Table\n",
    "cursor.execute('''\n",
    "        Create Table If Not Exists employees (\n",
    "            id Integer Primary Key,\n",
    "            name Text Not Null,\n",
    "            age Integer,\n",
    "            department text\n",
    "        )               \n",
    "''')\n",
    "\n",
    "# Commit the changes\n",
    "connection.commit()"
   ]
  },
  {
   "cell_type": "code",
   "execution_count": 5,
   "metadata": {},
   "outputs": [
    {
     "data": {
      "text/plain": [
       "<sqlite3.Cursor at 0x20ea279d340>"
      ]
     },
     "execution_count": 5,
     "metadata": {},
     "output_type": "execute_result"
    }
   ],
   "source": [
    "cursor.execute('''\n",
    "               Select * from employees\n",
    "               ''')\n"
   ]
  },
  {
   "cell_type": "code",
   "execution_count": 7,
   "metadata": {},
   "outputs": [
    {
     "data": {
      "text/plain": [
       "<sqlite3.Cursor at 0x20ea279d340>"
      ]
     },
     "execution_count": 7,
     "metadata": {},
     "output_type": "execute_result"
    }
   ],
   "source": [
    "# Insert the data in sqlite table\n",
    "cursor.execute('''\n",
    "Insert Into employees(name,age,department)\n",
    "            values('Krish',32,'Data Scientist')\n",
    "               ''')\n",
    "\n",
    "cursor.execute('''\n",
    "Insert Into employees(name,age,department)\n",
    "            values('Ajay',32,'ML engineer')\n",
    "               ''')\n",
    "cursor.execute('''\n",
    "Insert Into employees(name,age,department)\n",
    "            values('Vanraj',23,'Software Developer')\n",
    "               ''')\n",
    "cursor.execute('''\n",
    "Insert Into employees(name,age,department)\n",
    "            values('Sumit',19,'Unemployed')\n",
    "               ''')"
   ]
  },
  {
   "cell_type": "code",
   "execution_count": 18,
   "metadata": {},
   "outputs": [
    {
     "name": "stdout",
     "output_type": "stream",
     "text": [
      "(1, 'Krish', 34, 'Data Scientist')\n",
      "(2, 'Krish', 34, 'Data Scientist')\n",
      "(3, 'Ajay', 32, 'ML engineer')\n",
      "(4, 'Vanraj', 23, 'Software Developer')\n"
     ]
    }
   ],
   "source": [
    "# Query the data from the table\n",
    "cursor.execute('Select * from employees')\n",
    "rows =cursor.fetchall()\n",
    "\n",
    "# print the queried data\n",
    "for row in rows:\n",
    "    print(row)"
   ]
  },
  {
   "cell_type": "code",
   "execution_count": 13,
   "metadata": {},
   "outputs": [],
   "source": [
    "# Update the data in the table\n",
    "cursor.execute('''\n",
    "Update employees\n",
    "set age=34\n",
    "where name=\"Krish\"               \n",
    "''')\n",
    "\n",
    "connection.commit()"
   ]
  },
  {
   "cell_type": "code",
   "execution_count": 17,
   "metadata": {},
   "outputs": [],
   "source": [
    "# Delete the table from the table\n",
    "cursor.execute('''\n",
    "Delete from employees where name='Sumit'               \n",
    "''')\n",
    "\n",
    "connection.commit()"
   ]
  },
  {
   "cell_type": "code",
   "execution_count": 25,
   "metadata": {},
   "outputs": [],
   "source": [
    "# Working with sales data\n",
    "## Connect to an SQLite database\n",
    "\n",
    "connection = sqlite3.connect('sales_data.db')\n",
    "cursor = connection.cursor()\n",
    "\n",
    "# Create a table for sales data\n",
    "cursor.execute('''\n",
    "CREATE TABLE IF NOT EXISTS sales (\n",
    "    id INTEGER PRIMARY KEY,\n",
    "    date TEXT NOT NULL,\n",
    "    product TEXT NOT NULL,\n",
    "    sales INTEGER,\n",
    "    region TEXT\n",
    ")               \n",
    "''')\n",
    "\n",
    "# Insert data into the sales table\n",
    "sales_data = [\n",
    "    ('2023-01-01','Product1',100,'North'),\n",
    "    ('2023-01-02','Product2',120,'South'),\n",
    "    ('2023-01-03','Product3',140,'East'),\n",
    "    ('2023-01-04','Product4',150,'West'),\n",
    "    ('2023-01-05','Product5',170,'North'),\n",
    "]\n",
    "\n",
    "# cursor.executemany('''\n",
    "# Insert into sales(date,product,sales,region) values(?,?,?,?)                   \n",
    "# ''',sales_data)\n",
    "connection.commit()"
   ]
  },
  {
   "cell_type": "code",
   "execution_count": 26,
   "metadata": {},
   "outputs": [],
   "source": [
    "# close the connection\n",
    "connection.close()"
   ]
  },
  {
   "cell_type": "code",
   "execution_count": null,
   "metadata": {},
   "outputs": [],
   "source": []
  }
 ],
 "metadata": {
  "kernelspec": {
   "display_name": "Python 3",
   "language": "python",
   "name": "python3"
  },
  "language_info": {
   "codemirror_mode": {
    "name": "ipython",
    "version": 3
   },
   "file_extension": ".py",
   "mimetype": "text/x-python",
   "name": "python",
   "nbconvert_exporter": "python",
   "pygments_lexer": "ipython3",
   "version": "3.11.2"
  }
 },
 "nbformat": 4,
 "nbformat_minor": 2
}
